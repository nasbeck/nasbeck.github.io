{
  "nbformat": 4,
  "nbformat_minor": 0,
  "metadata": {
    "colab": {
      "provenance": [],
      "authorship_tag": "ABX9TyMqacP5+S83aofHEhl0tdQg",
      "include_colab_link": true
    },
    "kernelspec": {
      "name": "python3",
      "display_name": "Python 3"
    },
    "language_info": {
      "name": "python"
    }
  },
  "cells": [
    {
      "cell_type": "markdown",
      "metadata": {
        "id": "view-in-github",
        "colab_type": "text"
      },
      "source": [
        "<a href=\"https://colab.research.google.com/github/nasbeck/nasbeck.github.io/blob/main/MasterThesisFirstVersionCode.ipynb\" target=\"_parent\"><img src=\"https://colab.research.google.com/assets/colab-badge.svg\" alt=\"Open In Colab\"/></a>"
      ]
    },
    {
      "cell_type": "code",
      "execution_count": 1,
      "metadata": {
        "colab": {
          "base_uri": "https://localhost:8080/"
        },
        "id": "Tzd7AfKWpCsQ",
        "outputId": "3b9567b7-b0a1-439a-e665-2f590a664378"
      },
      "outputs": [
        {
          "output_type": "stream",
          "name": "stdout",
          "text": [
            "\u001b[33mWARNING: Ignoring invalid distribution ~cipy (/usr/local/lib/python3.11/dist-packages)\u001b[0m\u001b[33m\n",
            "\u001b[0m\u001b[33mWARNING: Ignoring invalid distribution ~cipy (/usr/local/lib/python3.11/dist-packages)\u001b[0m\u001b[33m\n",
            "\u001b[0m\u001b[33mWARNING: Ignoring invalid distribution ~cipy (/usr/local/lib/python3.11/dist-packages)\u001b[0m\u001b[33m\n",
            "\u001b[0m\u001b[33m    WARNING: Ignoring invalid distribution ~cipy (/usr/local/lib/python3.11/dist-packages)\u001b[0m\u001b[33m\n",
            "\u001b[0m\u001b[33m    WARNING: Ignoring invalid distribution ~cipy (/usr/local/lib/python3.11/dist-packages)\u001b[0m\u001b[33m\n",
            "\u001b[0m\u001b[33m    WARNING: Ignoring invalid distribution ~cipy (/usr/local/lib/python3.11/dist-packages)\u001b[0m\u001b[33m\n",
            "\u001b[0m\u001b[33m    WARNING: Ignoring invalid distribution ~cipy (/usr/local/lib/python3.11/dist-packages)\u001b[0m\u001b[33m\n",
            "\u001b[0m\u001b[33m    WARNING: Ignoring invalid distribution ~cipy (/usr/local/lib/python3.11/dist-packages)\u001b[0m\u001b[33m\n",
            "\u001b[0m\u001b[33mWARNING: Ignoring invalid distribution ~cipy (/usr/local/lib/python3.11/dist-packages)\u001b[0m\u001b[33m\n",
            "\u001b[0m\u001b[33mWARNING: Ignoring invalid distribution ~cipy (/usr/local/lib/python3.11/dist-packages)\u001b[0m\u001b[33m\n",
            "\u001b[0m\u001b[33mWARNING: Ignoring invalid distribution ~cipy (/usr/local/lib/python3.11/dist-packages)\u001b[0m\u001b[33m\n",
            "\u001b[0m\u001b[33mWARNING: Ignoring invalid distribution ~cipy (/usr/local/lib/python3.11/dist-packages)\u001b[0m\u001b[33m\n",
            "\u001b[0m\u001b[33mWARNING: Ignoring invalid distribution ~cipy (/usr/local/lib/python3.11/dist-packages)\u001b[0m\u001b[33m\n",
            "\u001b[0m\u001b[33mWARNING: Ignoring invalid distribution ~cipy (/usr/local/lib/python3.11/dist-packages)\u001b[0m\u001b[33m\n",
            "\u001b[0m\u001b[33mWARNING: Ignoring invalid distribution ~cipy (/usr/local/lib/python3.11/dist-packages)\u001b[0m\u001b[33m\n",
            "\u001b[0m\u001b[31mERROR: pip's dependency resolver does not currently take into account all the packages that are installed. This behaviour is the source of the following dependency conflicts.\n",
            "albumentations 2.0.6 requires scipy>=1.10.0, but you have scipy 1.9.3 which is incompatible.\n",
            "scikit-image 0.25.2 requires scipy>=1.11.4, but you have scipy 1.9.3 which is incompatible.\n",
            "imbalanced-learn 0.13.0 requires scipy<2,>=1.10.1, but you have scipy 1.9.3 which is incompatible.\n",
            "jax 0.5.2 requires scipy>=1.11.1, but you have scipy 1.9.3 which is incompatible.\n",
            "jaxlib 0.5.1 requires scipy>=1.11.1, but you have scipy 1.9.3 which is incompatible.\n",
            "cvxpy 1.6.5 requires scipy>=1.11.0, but you have scipy 1.9.3 which is incompatible.\u001b[0m\u001b[31m\n",
            "\u001b[0m\u001b[33mWARNING: Ignoring invalid distribution ~cipy (/usr/local/lib/python3.11/dist-packages)\u001b[0m\u001b[33m\n",
            "\u001b[0m\u001b[33mWARNING: Ignoring invalid distribution ~cipy (/usr/local/lib/python3.11/dist-packages)\u001b[0m\u001b[33m\n",
            "\u001b[0mCollecting en-core-web-sm==3.8.0\n",
            "  Downloading https://github.com/explosion/spacy-models/releases/download/en_core_web_sm-3.8.0/en_core_web_sm-3.8.0-py3-none-any.whl (12.8 MB)\n",
            "\u001b[2K     \u001b[90m━━━━━━━━━━━━━━━━━━━━━━━━━━━━━━━━━━━━━━━\u001b[0m \u001b[32m12.8/12.8 MB\u001b[0m \u001b[31m107.6 MB/s\u001b[0m eta \u001b[36m0:00:00\u001b[0m\n",
            "\u001b[?25h\u001b[33mWARNING: Ignoring invalid distribution ~cipy (/usr/local/lib/python3.11/dist-packages)\u001b[0m\u001b[33m\n",
            "\u001b[0m\u001b[38;5;2m✔ Download and installation successful\u001b[0m\n",
            "You can now load the package via spacy.load('en_core_web_sm')\n",
            "\u001b[38;5;3m⚠ Restart to reload dependencies\u001b[0m\n",
            "If you are in a Jupyter or Colab notebook, you may need to restart Python in\n",
            "order to load all the package's dependencies. You can do this by selecting the\n",
            "'Restart kernel' or 'Restart runtime' option.\n",
            "Mounted at /content/drive\n",
            "Working dir: /content/drive/MyDrive/Thesis Data\n"
          ]
        }
      ],
      "source": [
        "# Cell 0: Setup environment\n",
        "# ─────────────────────────\n",
        "# 1) Pin & install libs\n",
        "!pip install -q scipy==1.9.3 pypdf==4.2.0 gensim==4.3.2 spacy sentence-transformers bertopic scikit-learn nltk openpyxl pyyaml tqdm matplotlib pyLDAvis\n",
        "\n",
        "# 2) Download spaCy model\n",
        "!python -m spacy download en_core_web_sm\n",
        "\n",
        "# 3) Mount Drive\n",
        "from google.colab import drive\n",
        "drive.mount('/content/drive', force_remount=True)\n",
        "\n",
        "# 4) cd into your thesis folder\n",
        "import os\n",
        "BASE = '/content/drive/MyDrive/Thesis Data'\n",
        "os.chdir(BASE)\n",
        "print(\"Working dir:\", os.getcwd())"
      ]
    },
    {
      "cell_type": "code",
      "source": [
        "# Cell 1: Copy ING/Klarna PDFs into data_raw/pdfs\n",
        "import os, glob, shutil\n",
        "\n",
        "os.makedirs(\"data_raw/pdfs\", exist_ok=True)\n",
        "for src in (\"ING\",\"Klarna\"):\n",
        "    for f in glob.glob(f\"{src}/*.pdf\"):\n",
        "        shutil.copy(f, \"data_raw/pdfs\")\n",
        "print(\"Total PDFs:\", len(os.listdir(\"data_raw/pdfs\")))"
      ],
      "metadata": {
        "colab": {
          "base_uri": "https://localhost:8080/"
        },
        "id": "EwsriHQypNZX",
        "outputId": "a9907d17-8b0d-445c-8fdd-9efa75c39dcf"
      },
      "execution_count": 2,
      "outputs": [
        {
          "output_type": "stream",
          "name": "stdout",
          "text": [
            "Total PDFs: 71\n"
          ]
        }
      ]
    },
    {
      "cell_type": "code",
      "source": [
        "# Cell 2: Ingest & preprocess into tokens\n",
        "import os, re, pickle, glob\n",
        "from pathlib import Path\n",
        "from pypdf import PdfReader\n",
        "import spacy\n",
        "from gensim.models.phrases import Phrases, Phraser\n",
        "from tqdm import tqdm\n",
        "\n",
        "# load & configure spaCy\n",
        "nlp = spacy.load(\"en_core_web_sm\", disable=[\"parser\",\"ner\"])\n",
        "nlp.max_length = 5_000_000\n",
        "STOP = nlp.Defaults.stop_words | {\"cid\",\"groep\"}\n",
        "\n",
        "# read PDFs\n",
        "raw_texts, years = [], []\n",
        "for p in tqdm(sorted(Path(\"data_raw/pdfs\").rglob(\"*.pdf\"))):\n",
        "    r = PdfReader(str(p))\n",
        "    if r.is_encrypted: r.decrypt(\"\")\n",
        "    txt = \" \".join(page.extract_text() or \"\" for page in r.pages)\n",
        "    txt = re.sub(r\"\\s+\",\" \",txt).strip()\n",
        "    if not txt: continue\n",
        "    raw_texts.append(txt)\n",
        "    m = re.search(r\"20[0-9]{2}\", p.name)\n",
        "    years.append(int(m.group()) if m else None)\n",
        "\n",
        "# lemmatize\n",
        "token_lists = []\n",
        "for doc in tqdm(raw_texts):\n",
        "    doc_sp = nlp(doc)\n",
        "    token_lists.append([t.lemma_.lower() for t in doc_sp if t.is_alpha and t.lemma_.lower() not in STOP])\n",
        "\n",
        "# phrases\n",
        "phrases = Phrases(token_lists, min_count=5, threshold=8)\n",
        "phraser = Phraser(phrases)\n",
        "token_lists = [phraser[doc] for doc in token_lists]\n",
        "\n",
        "# save\n",
        "os.makedirs(\"data_processed\", exist_ok=True)\n",
        "pickle.dump(token_lists, open(\"data_processed/tokenized_corpus.pkl\",\"wb\"))\n",
        "pickle.dump(raw_texts,   open(\"data_processed/raw_texts.pkl\",\"wb\"))\n",
        "pickle.dump(years,       open(\"data_processed/years.pkl\",\"wb\"))\n",
        "print(\"Saved intermediates.\")"
      ],
      "metadata": {
        "colab": {
          "base_uri": "https://localhost:8080/"
        },
        "id": "5oSXhpsfpNWf",
        "outputId": "eae7a4b4-bb25-4abc-ff5e-c224d308856a"
      },
      "execution_count": 3,
      "outputs": [
        {
          "output_type": "stream",
          "name": "stderr",
          "text": [
            "/usr/local/lib/python3.11/dist-packages/pypdf/_crypt_providers/_cryptography.py:32: CryptographyDeprecationWarning: ARC4 has been moved to cryptography.hazmat.decrepit.ciphers.algorithms.ARC4 and will be removed from this module in 48.0.0.\n",
            "  from cryptography.hazmat.primitives.ciphers.algorithms import AES, ARC4\n",
            " 38%|███▊      | 27/71 [11:18<13:58, 19.06s/it]WARNING:pypdf._reader:Ignoring wrong pointing object 9 0 (offset 0)\n",
            "WARNING:pypdf._reader:Ignoring wrong pointing object 21 0 (offset 0)\n",
            "WARNING:pypdf._reader:Ignoring wrong pointing object 30 0 (offset 0)\n",
            "WARNING:pypdf._reader:Ignoring wrong pointing object 32 0 (offset 0)\n",
            "WARNING:pypdf._reader:Ignoring wrong pointing object 47 0 (offset 0)\n",
            "WARNING:pypdf._reader:Ignoring wrong pointing object 131 0 (offset 0)\n",
            "WARNING:pypdf._reader:Ignoring wrong pointing object 133 0 (offset 0)\n",
            "WARNING:pypdf._reader:Ignoring wrong pointing object 135 0 (offset 0)\n",
            "WARNING:pypdf._reader:Ignoring wrong pointing object 137 0 (offset 0)\n",
            "WARNING:pypdf._reader:Ignoring wrong pointing object 149 0 (offset 0)\n",
            "WARNING:pypdf._reader:Ignoring wrong pointing object 151 0 (offset 0)\n",
            "WARNING:pypdf._reader:Ignoring wrong pointing object 216 0 (offset 0)\n",
            "WARNING:pypdf._reader:Ignoring wrong pointing object 348 0 (offset 0)\n",
            "WARNING:pypdf._reader:Ignoring wrong pointing object 350 0 (offset 0)\n",
            "WARNING:pypdf._reader:Ignoring wrong pointing object 365 0 (offset 0)\n",
            "WARNING:pypdf._reader:Ignoring wrong pointing object 367 0 (offset 0)\n",
            " 76%|███████▌  | 54/71 [14:22<01:32,  5.45s/it]WARNING:pypdf._reader:Ignoring wrong pointing object 11 0 (offset 0)\n",
            "WARNING:pypdf._reader:Ignoring wrong pointing object 27 0 (offset 0)\n",
            "WARNING:pypdf._reader:Ignoring wrong pointing object 35 0 (offset 0)\n",
            "WARNING:pypdf._reader:Ignoring wrong pointing object 157 0 (offset 0)\n",
            "WARNING:pypdf._reader:Ignoring wrong pointing object 159 0 (offset 0)\n",
            "WARNING:pypdf._reader:Ignoring wrong pointing object 161 0 (offset 0)\n",
            "WARNING:pypdf._reader:Ignoring wrong pointing object 163 0 (offset 0)\n",
            "WARNING:pypdf._reader:Ignoring wrong pointing object 165 0 (offset 0)\n",
            "WARNING:pypdf._reader:Ignoring wrong pointing object 172 0 (offset 0)\n",
            "WARNING:pypdf._reader:Ignoring wrong pointing object 174 0 (offset 0)\n",
            "WARNING:pypdf._reader:Ignoring wrong pointing object 184 0 (offset 0)\n",
            "WARNING:pypdf._reader:Ignoring wrong pointing object 186 0 (offset 0)\n",
            "WARNING:pypdf._reader:Ignoring wrong pointing object 222 0 (offset 0)\n",
            "WARNING:pypdf._reader:Ignoring wrong pointing object 250 0 (offset 0)\n",
            "WARNING:pypdf._reader:Ignoring wrong pointing object 252 0 (offset 0)\n",
            "WARNING:pypdf._reader:Ignoring wrong pointing object 254 0 (offset 0)\n",
            "WARNING:pypdf._reader:Ignoring wrong pointing object 256 0 (offset 0)\n",
            "WARNING:pypdf._reader:Ignoring wrong pointing object 258 0 (offset 0)\n",
            "WARNING:pypdf._reader:Ignoring wrong pointing object 261 0 (offset 0)\n",
            "WARNING:pypdf._reader:Ignoring wrong pointing object 263 0 (offset 0)\n",
            "WARNING:pypdf._reader:Ignoring wrong pointing object 324 0 (offset 0)\n",
            "WARNING:pypdf._reader:Ignoring wrong pointing object 326 0 (offset 0)\n",
            "WARNING:pypdf._reader:Ignoring wrong pointing object 329 0 (offset 0)\n",
            "100%|██████████| 71/71 [14:59<00:00, 12.67s/it]\n",
            "100%|██████████| 71/71 [07:55<00:00,  6.69s/it]\n"
          ]
        },
        {
          "output_type": "stream",
          "name": "stdout",
          "text": [
            "Saved intermediates.\n"
          ]
        }
      ]
    },
    {
      "cell_type": "code",
      "source": [
        "# Cell 2.5 (revised): Lexicon enrichment → keywords.yml\n",
        "!pip install -q openpyxl pyyaml\n",
        "\n",
        "import pandas as pd, yaml\n",
        "from gensim.models.fasttext import FastText\n",
        "from pathlib import Path\n",
        "\n",
        "RAW = Path(\"data_raw\")\n",
        "LM_CSV = RAW / \"LoughranMcDonald_MasterDictionary.csv\"\n",
        "FSN_CSV = RAW / \"finsenticnet_esg_terms.csv\"\n",
        "\n",
        "# 1) inspect L‑M dictionary columns\n",
        "lm = pd.read_csv(LM_CSV)\n",
        "print(\"L‑M CSV columns:\", list(lm.columns))\n",
        "\n",
        "# define desired risk categories (lower‑case)\n",
        "risk_cats = {\"uncertainty\",\"litigation\",\"litigious\",\"constraining\",\"negative\"}\n",
        "\n",
        "# 2) find which columns in lm correspond to these flags\n",
        "flag_cols = [c for c in lm.columns if c.lower() in risk_cats]\n",
        "if not flag_cols:\n",
        "    raise KeyError(f\"No risk‑flag columns found (looked for {risk_cats}) in L‑M CSV\")\n",
        "print(\"Using L‑M flag columns:\", flag_cols)\n",
        "\n",
        "# 3) pick all words where any of those flags == 1\n",
        "lm_terms = set(\n",
        "    lm.loc[lm[flag_cols].any(axis=1),\n",
        "           [c for c in lm.columns if \"word\" in c.lower()]].iloc[:,0]\n",
        "      .str.lower()\n",
        ")\n",
        "print(f\"→ {len(lm_terms)} L‑M risk terms\")\n",
        "\n",
        "# 4) load ESG FinSenticNet\n",
        "fsn = pd.read_csv(FSN_CSV)\n",
        "# find the “term” column\n",
        "term_col = next(c for c in fsn.columns if \"term\" in c.lower())\n",
        "esg_terms = set(fsn[term_col].str.lower()) | {\"environmental\",\"social\",\"climate\",\"scope 3\"}\n",
        "print(f\"→ {len(esg_terms)} ESG terms\")\n",
        "\n",
        "# 5) fastText expansion\n",
        "# load your token_lists from prior cell\n",
        "# (assumes `token_lists` is in memory)\n",
        "docs = [\" \".join(doc) for doc in token_lists]\n",
        "ft = FastText([d.split() for d in docs],\n",
        "              vector_size=100, window=5, min_count=3, epochs=5)\n",
        "seeds = lm_terms | esg_terms\n",
        "for w in list(seeds):\n",
        "    if w in ft.wv:\n",
        "        for cand,sim in ft.wv.most_similar(w, topn=5):\n",
        "            if sim>0.55:\n",
        "                seeds.add(cand)\n",
        "print(f\"→ {len(seeds)} total seed terms after FastText expansion\")\n",
        "\n",
        "# 6) write keywords.yml\n",
        "kw = {\n",
        "    \"seed_risk\": sorted(lm_terms),\n",
        "    \"seed_esg\": sorted(esg_terms),\n",
        "    \"ft_expansion\": sorted(seeds)\n",
        "}\n",
        "with open(\"keywords.yml\",\"w\") as f:\n",
        "    yaml.dump(kw, f, sort_keys=False)\n",
        "print(\"✅ keywords.yml written with\", len(seeds), \"seeds\")"
      ],
      "metadata": {
        "colab": {
          "base_uri": "https://localhost:8080/"
        },
        "id": "zMWcT9Uipyfm",
        "outputId": "f828b656-00fc-4429-b7aa-3e1fcec57eac"
      },
      "execution_count": 5,
      "outputs": [
        {
          "output_type": "stream",
          "name": "stdout",
          "text": [
            "\u001b[33mWARNING: Ignoring invalid distribution ~cipy (/usr/local/lib/python3.11/dist-packages)\u001b[0m\u001b[33m\n",
            "\u001b[0m\u001b[33mWARNING: Ignoring invalid distribution ~cipy (/usr/local/lib/python3.11/dist-packages)\u001b[0m\u001b[33m\n",
            "\u001b[0m\u001b[33mWARNING: Ignoring invalid distribution ~cipy (/usr/local/lib/python3.11/dist-packages)\u001b[0m\u001b[33m\n",
            "\u001b[0mL‑M CSV columns: ['Word', 'Sequence Number', 'Word Count', 'Word Proportion', 'Average Proportion', 'Std Dev', 'Doc Count', 'Negative', 'Positive', 'Uncertainty', 'Litigious', 'Constraining', 'Superfluous', 'Interesting', 'Modal', 'Irr_Verb', 'Harvard_IV', 'Syllables', 'Source']\n",
            "Using L‑M flag columns: ['Negative', 'Uncertainty', 'Litigious', 'Constraining']\n",
            "→ 3506 L‑M risk terms\n",
            "→ 12 ESG terms\n",
            "→ 12354 total seed terms after FastText expansion\n",
            "✅ keywords.yml written with 12354 seeds\n"
          ]
        }
      ]
    },
    {
      "cell_type": "markdown",
      "source": [],
      "metadata": {
        "id": "zuQo9yqMpyN5"
      }
    },
    {
      "cell_type": "code",
      "source": [
        "# Cell 3: Grid‑search k & bootstrap stability\n",
        "import os, pickle\n",
        "import pandas as pd, numpy as np\n",
        "from gensim import corpora, models\n",
        "from gensim.models.coherencemodel import CoherenceModel\n",
        "from sklearn.metrics import silhouette_score, calinski_harabasz_score\n",
        "import matplotlib.pyplot as plt\n",
        "\n",
        "# load tokens\n",
        "tokens = pickle.load(open(\"data_processed/tokenized_corpus.pkl\",\"rb\"))\n",
        "dict_ = corpora.Dictionary(tokens)\n",
        "corpus = [dict_.doc2bow(doc) for doc in tokens]\n",
        "\n",
        "metrics=[]\n",
        "for k in range(6,13):\n",
        "    lda = models.LdaMulticore(corpus, num_topics=k, id2word=dict_, passes=10, workers=4, random_state=0)\n",
        "    c_v = CoherenceModel(model=lda, texts=tokens, dictionary=dict_, coherence='c_v').get_coherence()\n",
        "    dt = np.array([[p for _,p in lda.get_document_topics(b, minimum_probability=0)] for b in corpus])\n",
        "    sil = silhouette_score(dt, dt.argmax(axis=1))\n",
        "    metrics.append({'k':k,'c_v':c_v,'silhouette':sil})\n",
        "    print(f\"k={k} c_v={c_v:.3f} sil={sil:.3f}\")\n",
        "\n",
        "dfm = pd.DataFrame(metrics)\n",
        "dfm.to_csv(\"data_processed/k_search_metrics.csv\", index=False)\n",
        "\n",
        "plt.figure()\n",
        "plt.plot(dfm.k, dfm.c_v, marker='o', label='c_v')\n",
        "plt.plot(dfm.k, dfm.silhouette, marker='s', label='silhouette')\n",
        "plt.xlabel('k'); plt.ylabel('score'); plt.legend(); plt.tight_layout()\n",
        "plt.savefig(\"fig/k_search_plot.png\", dpi=300)\n",
        "print(\"Done grid‑search.\")"
      ],
      "metadata": {
        "colab": {
          "base_uri": "https://localhost:8080/",
          "height": 626
        },
        "id": "BvURd327pNUJ",
        "outputId": "bd7efa9f-9839-42d5-e579-ce254253ad0b"
      },
      "execution_count": 6,
      "outputs": [
        {
          "output_type": "stream",
          "name": "stdout",
          "text": [
            "k=6 c_v=0.466 sil=0.816\n",
            "k=7 c_v=0.459 sil=0.865\n",
            "k=8 c_v=0.443 sil=0.730\n",
            "k=9 c_v=0.433 sil=0.772\n",
            "k=10 c_v=0.451 sil=0.767\n",
            "k=11 c_v=0.475 sil=0.598\n",
            "k=12 c_v=0.421 sil=0.664\n",
            "Done grid‑search.\n"
          ]
        },
        {
          "output_type": "display_data",
          "data": {
            "text/plain": [
              "<Figure size 640x480 with 1 Axes>"
            ],
            "image/png": "[encoded data removed]"
          },
          "metadata": {}
        }
      ]
    },
    {
      "cell_type": "code",
      "source": [
        "# Cell 4: Inspect k vs scores\n",
        "import pandas as pd\n",
        "import matplotlib.pyplot as plt\n",
        "\n",
        "df = pd.read_csv(\"data_processed/k_search_metrics.csv\")\n",
        "print(df)\n",
        "df.plot(x='k', y=['c_v','silhouette'], marker='o', figsize=(6,4))\n",
        "plt.show()"
      ],
      "metadata": {
        "colab": {
          "base_uri": "https://localhost:8080/",
          "height": 527
        },
        "id": "JXLgwX40pNRj",
        "outputId": "8e67caaa-0be1-4819-ded1-810e7a7ff7a3"
      },
      "execution_count": 7,
      "outputs": [
        {
          "output_type": "stream",
          "name": "stdout",
          "text": [
            "    k       c_v  silhouette\n",
            "0   6  0.465525    0.815908\n",
            "1   7  0.459275    0.864903\n",
            "2   8  0.443196    0.729612\n",
            "3   9  0.433389    0.772347\n",
            "4  10  0.450927    0.767070\n",
            "5  11  0.474701    0.597558\n",
            "6  12  0.420536    0.663680\n"
          ]
        },
        {
          "output_type": "display_data",
          "data": {
            "text/plain": [
              "<Figure size 600x400 with 1 Axes>"
            ],
            "image/png": "[encoded data removed]"
          },
          "metadata": {}
        }
      ]
    },
    {
      "cell_type": "code",
      "source": [
        "# Cell 5: Fit final LDA, export artifacts\n",
        "import os, pickle, random\n",
        "import pandas as pd, numpy as np\n",
        "import matplotlib.pyplot as plt\n",
        "import pyLDAvis.gensim_models as gensimvis, pyLDAvis\n",
        "from gensim import corpora, models\n",
        "\n",
        "# load intermediates\n",
        "docs   = pickle.load(open(\"data_processed/tokenized_corpus.pkl\",\"rb\"))\n",
        "texts  = pickle.load(open(\"data_processed/raw_texts.pkl\",\"rb\"))\n",
        "years  = pickle.load(open(\"data_processed/years.pkl\",\"rb\"))\n",
        "\n",
        "dict_  = corpora.Dictionary(docs)\n",
        "corpus = [dict_.doc2bow(d) for d in docs]\n",
        "\n",
        "# fit\n",
        "k_final= 14\n",
        "lda = models.LdaMulticore(corpus, num_topics=k_final, id2word=dict_, passes=20, workers=4, random_state=42)\n",
        "lda.save(\"data_processed/lda_final.model\")\n",
        "\n",
        "# top‑10 plots + CSV\n",
        "os.makedirs(\"fig\", exist_ok=True)\n",
        "topics=[]\n",
        "for t in range(k_final):\n",
        "    wp=lda.show_topic(t, topn=10)\n",
        "    words,probs=zip(*wp)\n",
        "    topics.append({'topic':t,'words':\", \".join(words)})\n",
        "    plt.figure(); plt.barh(words[::-1],probs[::-1]); plt.title(f\"Topic {t}\"); plt.tight_layout()\n",
        "    plt.savefig(f\"fig/topic_{t}_top10.png\", dpi=300); plt.close()\n",
        "pd.DataFrame(topics).to_csv(\"data_processed/topics_top10.csv\", index=False)\n",
        "\n",
        "# pyLDAvis\n",
        "vis=gensimvis.prepare(lda, corpus, dict_)\n",
        "os.makedirs(\"docs\",exist_ok=True)\n",
        "pyLDAvis.save_html(vis, \"docs/ldavis.html\")\n",
        "\n",
        "# topic trend\n",
        "mat=np.zeros((len(corpus),k_final))\n",
        "for i,b in enumerate(corpus):\n",
        "    for t,p in lda.get_document_topics(b):\n",
        "        mat[i,t]=p\n",
        "df_trend=pd.DataFrame(mat, columns=[f\"t{t}\" for t in range(k_final)])\n",
        "df_trend['year']=years\n",
        "df_trend.groupby('year').mean().to_csv(\"data_processed/topic_trend.csv\")\n",
        "print(\"✔ Final model & artifacts.\")"
      ],
      "metadata": {
        "colab": {
          "base_uri": "https://localhost:8080/"
        },
        "id": "Q2j0zniupNO8",
        "outputId": "c25c87eb-5b0c-46c3-969a-dc9e4f29efe2"
      },
      "execution_count": 14,
      "outputs": [
        {
          "output_type": "stream",
          "name": "stdout",
          "text": [
            "✔ Final model & artifacts.\n"
          ]
        }
      ]
    },
    {
      "cell_type": "code",
      "source": [
        "# Cell 6: Cohen’s kappa for manual vs predicted\n",
        "import glob, os, pandas as pd\n",
        "from sklearn.metrics import cohen_kappa_score\n",
        "\n",
        "dp=\"data_processed\"\n",
        "lbl=glob.glob(f\"{dp}/*labeled*.csv\")[0]\n",
        "df=pd.read_csv(lbl).dropna(subset=['manual'])\n",
        "k=cohen_kappa_score(df['predicted'], df['manual'])\n",
        "print(\"Using\", os.path.basename(lbl), \"→ Cohen’s κ =\", k)"
      ],
      "metadata": {
        "colab": {
          "base_uri": "https://localhost:8080/"
        },
        "id": "CapwJ38DpNMn",
        "outputId": "28b0f943-1e0c-47fe-cdda-a4a411101b1c"
      },
      "execution_count": 15,
      "outputs": [
        {
          "output_type": "stream",
          "name": "stdout",
          "text": [
            "Using validation_sample_manual_labeled.csv → Cohen’s κ = nan\n"
          ]
        },
        {
          "output_type": "stream",
          "name": "stderr",
          "text": [
            "/usr/local/lib/python3.11/dist-packages/sklearn/metrics/_classification.py:758: RuntimeWarning: invalid value encountered in scalar divide\n",
            "  k = np.sum(w_mat * confusion) / np.sum(w_mat * expected)\n"
          ]
        }
      ]
    },
    {
      "cell_type": "code",
      "source": [
        "# Cell 7: Persist manual mapping and build micro_codebook.yml\n",
        "import os, json, yaml, pandas as pd\n",
        "\n",
        "# your hand‑assigned affordance→topic\n",
        "manual_mapping = {\n",
        "  'risk_governance':0,'esg_toggle':12,'product_upsell':7,\n",
        "  'cross_sell_offer':7,'budget_setting':9,'fixed_cost_sustainability':12,\n",
        "  'insurance_upsell':3,'midmonth_checkpoint':6,'predictive_nudge':6\n",
        "}\n",
        "os.makedirs('data_processed',exist_ok=True)\n",
        "json.dump(manual_mapping, open('data_processed/manual_mapping.json','w'), indent=2)\n",
        "\n",
        "# build codebook\n",
        "tt = pd.read_csv('data_processed/topics_top10.csv')\n",
        "topic_to_labels={}\n",
        "for L,T in manual_mapping.items():\n",
        "    topic_to_labels.setdefault(T,[]).append(L)\n",
        "\n",
        "codebook={}\n",
        "for _,r in tt.iterrows():\n",
        "    t=int(r.topic)\n",
        "    labels=topic_to_labels.get(t,[])\n",
        "    codebook[f\"topic_{t}\"]={'top_words':r.words.split(', '),\n",
        "                            'primary_label':labels[0] if labels else None,\n",
        "                            'all_labels':labels}\n",
        "yaml.dump(codebook, open('data_processed/micro_codebook.yml','w'), sort_keys=True)\n",
        "print(\"✅ micro_codebook.yml written\")"
      ],
      "metadata": {
        "colab": {
          "base_uri": "https://localhost:8080/"
        },
        "id": "NVlbX_a4pUJZ",
        "outputId": "3f259931-bdcb-4798-ae4e-73070e92e816"
      },
      "execution_count": 16,
      "outputs": [
        {
          "output_type": "stream",
          "name": "stdout",
          "text": [
            "✅ micro_codebook.yml written\n"
          ]
        }
      ]
    },
    {
      "cell_type": "code",
      "source": [
        "# Cell 8 (revised): Plot trends for chosen affordances, with debug\n",
        "import json\n",
        "import pandas as pd\n",
        "import matplotlib.pyplot as plt\n",
        "\n",
        "# 1) load your topic_trend.csv\n",
        "trend = pd.read_csv('data_processed/topic_trend.csv')\n",
        "\n",
        "# if 'year' is a column, make it the index\n",
        "if 'year' in trend.columns:\n",
        "    trend = trend.set_index('year')\n",
        "\n",
        "# ensure index is numeric\n",
        "trend.index = trend.index.astype(int)\n",
        "\n",
        "# 2) show me what columns you actually have\n",
        "print(\"Available columns in trend:\", trend.columns.tolist())\n",
        "\n",
        "# 3) load your manual affordance→topic mapping\n",
        "manual = json.load(open('data_processed/manual_mapping.json'))\n",
        "\n",
        "# 4) pick the three affordances you want to track\n",
        "to_plot = ['risk_governance','esg_toggle','product_upsell']\n",
        "\n",
        "plt.figure(figsize=(6,4))\n",
        "\n",
        "for label in to_plot:\n",
        "    if label not in manual:\n",
        "        print(f\"⚠️  '{label}' not in manual_mapping.json, skipping\")\n",
        "        continue\n",
        "    tid = manual[label]\n",
        "    col = f\"t{tid}\"\n",
        "    if col not in trend.columns:\n",
        "        print(f\"⚠️  column '{col}' for topic {tid} (label={label}) not in trend, skipping\")\n",
        "        continue\n",
        "    plt.plot(trend.index, trend[col], marker='o', label=f\"{label} (t{tid})\")\n",
        "\n",
        "plt.xlabel('Year')\n",
        "plt.ylabel('Mean topic weight')\n",
        "plt.legend()\n",
        "plt.tight_layout()\n",
        "# save + show\n",
        "plt.savefig('fig/selected_topic_trends.png', dpi=300)\n",
        "plt.show()\n",
        "print(\"✔ saved fig/selected_topic_trends.png\")"
      ],
      "metadata": {
        "colab": {
          "base_uri": "https://localhost:8080/",
          "height": 462
        },
        "id": "NHoow2tFpUL_",
        "outputId": "e0f12bed-64ee-4f53-a523-9ee2c34ed81b"
      },
      "execution_count": 17,
      "outputs": [
        {
          "output_type": "stream",
          "name": "stdout",
          "text": [
            "Available columns in trend: ['t0', 't1', 't2', 't3', 't4', 't5', 't6', 't7', 't8', 't9', 't10', 't11', 't12', 't13']\n"
          ]
        },
        {
          "output_type": "display_data",
          "data": {
            "text/plain": [
              "<Figure size 600x400 with 1 Axes>"
            ],
            "image/png": "[encoded data removed]"
          },
          "metadata": {}
        },
        {
          "output_type": "stream",
          "name": "stdout",
          "text": [
            "✔ saved fig/selected_topic_trends.png\n"
          ]
        }
      ]
    },
    {
      "cell_type": "code",
      "source": [
        "# Cell 9: List your outputs\n",
        "import os\n",
        "print(\"data_processed:\", sorted(os.listdir(\"data_processed\")))\n",
        "print(\"fig:\", sorted(os.listdir(\"fig\")))\n",
        "print(\"docs:\", sorted(os.listdir(\"docs\")))"
      ],
      "metadata": {
        "colab": {
          "base_uri": "https://localhost:8080/"
        },
        "id": "aW5i5H8qpUW8",
        "outputId": "6a5837af-23c9-4d59-a06b-53a97ecda62f"
      },
      "execution_count": 18,
      "outputs": [
        {
          "output_type": "stream",
          "name": "stdout",
          "text": [
            "data_processed: ['crosstab_label_topic_counts.csv', 'crosstab_label_topic_props.csv', 'discourse_design_matrix.csv', 'k_search_metrics.csv', 'lda_final.model', 'lda_final.model.expElogbeta.npy', 'lda_final.model.id2word', 'lda_final.model.state', 'manual_mapping.json', 'micro_codebook.yml', 'raw_texts.pkl', 'samples_for_manual.csv', 'samples_for_manual_auto_labeled v2.csv', 'samples_for_manual_auto_labeled.csv', 'samples_for_manual_labeled.csv', 'tokenized_corpus.pkl', 'topic_trend.csv', 'topics_top10.csv', 'validation_sample.csv', 'validation_sample_auto_kw.csv', 'validation_sample_manual.csv', 'validation_sample_manual_auto_labeled.csv', 'validation_sample_manual_labeled v2.csv', 'validation_sample_manual_labeled.csv', 'years.pkl']\n",
            "fig: ['k_search_plot.png', 'k_search_plot_caption.txt', 'k_search_plot_inspect.png', 'lda_k11.gensim', 'lda_k11.gensim.expElogbeta.npy', 'lda_k11.gensim.id2word', 'lda_k11.gensim.state', 'lda_k12.gensim', 'lda_k12.gensim.expElogbeta.npy', 'lda_k12.gensim.id2word', 'lda_k12.gensim.state', 'lda_k3.gensim', 'lda_k3.gensim.expElogbeta.npy', 'lda_k3.gensim.id2word', 'lda_k3.gensim.state', 'lda_vis.html', 'selected_topic_trends.png', 'topic_0_top10.png', 'topic_0_top10_caption.txt', 'topic_10_top10.png', 'topic_10_top10_caption.txt', 'topic_11_top10.png', 'topic_11_top10_caption.txt', 'topic_12_top10.png', 'topic_13_top10.png', 'topic_1_top10.png', 'topic_1_top10_caption.txt', 'topic_2_top10.png', 'topic_2_top10_caption.txt', 'topic_3_top10.png', 'topic_3_top10_caption.txt', 'topic_4_top10.png', 'topic_4_top10_caption.txt', 'topic_5_top10.png', 'topic_5_top10_caption.txt', 'topic_6_top10.png', 'topic_6_top10_caption.txt', 'topic_7_top10.png', 'topic_7_top10_caption.txt', 'topic_8_top10.png', 'topic_8_top10_caption.txt', 'topic_9_top10.png', 'topic_9_top10_caption.txt']\n",
            "docs: ['ldavis.html']\n"
          ]
        }
      ]
    },
    {
      "cell_type": "code",
      "source": [
        "# Cell X (revised): Model‐selection summary (robust to metric names)\n",
        "import pandas as pd\n",
        "from tabulate import tabulate\n",
        "\n",
        "# 1) load your k‑search metrics\n",
        "df_k = pd.read_csv(\"data_processed/k_search_metrics.csv\")\n",
        "\n",
        "# 2) find all metric columns (anything other than 'k')\n",
        "metrics = [c for c in df_k.columns if c != \"k\"]\n",
        "\n",
        "rows = []\n",
        "for m in metrics:\n",
        "    # find the row where this metric is maximized\n",
        "    idx = df_k[m].idxmax()\n",
        "    best = df_k.loc[idx, [\"k\", m]]\n",
        "    rows.append([m, int(best.k), best[m]])\n",
        "\n",
        "summary = pd.DataFrame(rows, columns=[\"Metric\",\"Optimal k\",\"Value\"])\n",
        "\n",
        "print(\"### Model‑selection: optimal k by metric\\n\")\n",
        "print(tabulate(summary, headers=\"keys\", tablefmt=\"github\", floatfmt=\".3f\"))"
      ],
      "metadata": {
        "colab": {
          "base_uri": "https://localhost:8080/"
        },
        "id": "AZW7Jox63eGk",
        "outputId": "e53ca7a6-d6d5-446f-e2ce-4a54d553c338"
      },
      "execution_count": 21,
      "outputs": [
        {
          "output_type": "stream",
          "name": "stdout",
          "text": [
            "### Model‑selection: optimal k by metric\n",
            "\n",
            "|    | Metric     |   Optimal k |   Value |\n",
            "|----|------------|-------------|---------|\n",
            "|  0 | c_v        |          11 |   0.475 |\n",
            "|  1 | silhouette |           7 |   0.865 |\n"
          ]
        }
      ]
    },
    {
      "cell_type": "code",
      "source": [
        "# Cell Y: Bootstrap confidence intervals on topic trends\n",
        "import pandas as pd, numpy as np\n",
        "\n",
        "# load the topic_trend (means per year) and your mapping\n",
        "trend = pd.read_csv(\"data_processed/topic_trend.csv\")\n",
        "# assume 'year' is first column\n",
        "if 'year' not in trend.columns:\n",
        "    trend = trend.reset_index().rename(columns={'index':'year'})\n",
        "trend['year'] = trend['year'].astype(int)\n",
        "\n",
        "# select the three affordance topics you care about\n",
        "affordance_to_tid = {'risk_governance':0,'esg_toggle':12,'product_upsell':7}\n",
        "tids = list(affordance_to_tid.values())\n",
        "\n",
        "ci_rows = []\n",
        "n_boot = 1000\n",
        "for label, tid in affordance_to_tid.items():\n",
        "    col = f\"t{tid}\"\n",
        "    values = trend[col].values\n",
        "    # bootstrap resampling of yearly mean\n",
        "    boots = []\n",
        "    for i in range(n_boot):\n",
        "        sample = np.random.choice(values, size=len(values), replace=True)\n",
        "        boots.append(sample.mean())\n",
        "    lo, hi = np.percentile(boots, [2.5,97.5])\n",
        "    ci_rows.append([label, tid, values.mean(), lo, hi])\n",
        "\n",
        "ci_df = pd.DataFrame(ci_rows, columns=[\"affordance\",\"topic_id\",\"mean\",\"ci_lower\",\"ci_upper\"])\n",
        "ci_df.to_csv(\"data_processed/bootstrap_CI_topic_trend.csv\", index=False)\n",
        "print(\"Bootstrap 95% CIs on mean trend:\")\n",
        "print(ci_df.to_string(float_format=lambda x: f\"{x:.3f}\"))"
      ],
      "metadata": {
        "colab": {
          "base_uri": "https://localhost:8080/"
        },
        "id": "HlX2oxLu3d9M",
        "outputId": "de0f276f-991b-4547-d975-39a25db12a2f"
      },
      "execution_count": 22,
      "outputs": [
        {
          "output_type": "stream",
          "name": "stdout",
          "text": [
            "Bootstrap 95% CIs on mean trend:\n",
            "        affordance  topic_id  mean  ci_lower  ci_upper\n",
            "0  risk_governance         0 0.103     0.030     0.200\n",
            "1       esg_toggle        12 0.018     0.000     0.052\n",
            "2   product_upsell         7 0.054     0.000     0.156\n"
          ]
        }
      ]
    },
    {
      "cell_type": "code",
      "source": [
        "# Cell Y: Bootstrap confidence intervals on topic trends\n",
        "import pandas as pd, numpy as np\n",
        "\n",
        "# load the topic_trend (means per year) and your mapping\n",
        "trend = pd.read_csv(\"data_processed/topic_trend.csv\")\n",
        "# assume 'year' is first column\n",
        "if 'year' not in trend.columns:\n",
        "    trend = trend.reset_index().rename(columns={'index':'year'})\n",
        "trend['year'] = trend['year'].astype(int)\n",
        "\n",
        "# select the three affordance topics you care about\n",
        "affordance_to_tid = {'risk_governance':0,'esg_toggle':12,'product_upsell':7}\n",
        "tids = list(affordance_to_tid.values())\n",
        "\n",
        "ci_rows = []\n",
        "n_boot = 1000\n",
        "for label, tid in affordance_to_tid.items():\n",
        "    col = f\"t{tid}\"\n",
        "    values = trend[col].values\n",
        "    # bootstrap resampling of yearly mean\n",
        "    boots = []\n",
        "    for i in range(n_boot):\n",
        "        sample = np.random.choice(values, size=len(values), replace=True)\n",
        "        boots.append(sample.mean())\n",
        "    lo, hi = np.percentile(boots, [2.5,97.5])\n",
        "    ci_rows.append([label, tid, values.mean(), lo, hi])\n",
        "\n",
        "ci_df = pd.DataFrame(ci_rows, columns=[\"affordance\",\"topic_id\",\"mean\",\"ci_lower\",\"ci_upper\"])\n",
        "ci_df.to_csv(\"data_processed/bootstrap_CI_topic_trend.csv\", index=False)\n",
        "print(\"Bootstrap 95% CIs on mean trend:\")\n",
        "print(ci_df.to_string(float_format=lambda x: f\"{x:.3f}\"))"
      ],
      "metadata": {
        "colab": {
          "base_uri": "https://localhost:8080/"
        },
        "id": "-CrQztO54J_u",
        "outputId": "9018d647-9684-4912-8df5-329a68a44dd7"
      },
      "execution_count": 23,
      "outputs": [
        {
          "output_type": "stream",
          "name": "stdout",
          "text": [
            "Bootstrap 95% CIs on mean trend:\n",
            "        affordance  topic_id  mean  ci_lower  ci_upper\n",
            "0  risk_governance         0 0.103     0.028     0.189\n",
            "1       esg_toggle        12 0.018     0.000     0.053\n",
            "2   product_upsell         7 0.054     0.000     0.155\n"
          ]
        }
      ]
    },
    {
      "cell_type": "code",
      "source": [
        "# Cell Z: Pre‑ vs Post‑2018 mean comparison (t‑test)\n",
        "import pandas as pd\n",
        "from scipy.stats import ttest_ind\n",
        "\n",
        "trend = pd.read_csv(\"data_processed/topic_trend.csv\")\n",
        "if 'year' not in trend.columns:\n",
        "    trend = trend.reset_index().rename(columns={'index':'year'})\n",
        "trend['year'] = trend['year'].astype(int)\n",
        "\n",
        "tests = []\n",
        "for label, tid in affordance_to_tid.items():\n",
        "    col = f\"t{tid}\"\n",
        "    pre  = trend.loc[trend.year < 2018, col]\n",
        "    post = trend.loc[trend.year >=2018, col]\n",
        "    tstat, pval = ttest_ind(pre, post, equal_var=False)\n",
        "    tests.append([label, tid, pre.mean(), post.mean(), tstat, pval])\n",
        "\n",
        "test_df = pd.DataFrame(tests, columns=[\"affordance\",\"topic_id\",\"mean_pre\",\"mean_post\",\"t_stat\",\"p_value\"])\n",
        "print(\"Pre( <2018) vs Post(≥2018) topic‑weight comparison:\")\n",
        "print(test_df.to_string(float_format=lambda x: f\"{x:.3f}\"))"
      ],
      "metadata": {
        "colab": {
          "base_uri": "https://localhost:8080/"
        },
        "id": "GN4i_Se04KCU",
        "outputId": "54eb0d17-0e9a-4dc4-b8ed-3d65222c6626"
      },
      "execution_count": 24,
      "outputs": [
        {
          "output_type": "stream",
          "name": "stdout",
          "text": [
            "Pre( <2018) vs Post(≥2018) topic‑weight comparison:\n",
            "        affordance  topic_id  mean_pre  mean_post  t_stat  p_value\n",
            "0  risk_governance         0     0.191      0.025   1.926    0.096\n",
            "1       esg_toggle        12     0.000      0.034  -1.109    0.304\n",
            "2   product_upsell         7     0.011      0.091  -0.873    0.411\n"
          ]
        }
      ]
    },
    {
      "cell_type": "code",
      "source": [
        "# ⬇️  Cell: auto‑fill the “label” column  ─────────────────────────────\n",
        "import pandas as pd, re, os, textwrap\n",
        "\n",
        "BASE = '/content/drive/MyDrive/Thesis Data'\n",
        "MAP_FP = os.path.join(BASE, 'data_raw', 'interface_mapping.csv')\n",
        "\n",
        "# 1) load mapping CSV\n",
        "df = pd.read_csv(MAP_FP)\n",
        "\n",
        "# 2) extract group number from the screenshot path\n",
        "def extract_group(path:str):\n",
        "    m = re.search(r'group[ _]?(\\d)', path, flags=re.I)\n",
        "    return int(m.group(1)) if m else None\n",
        "df['group'] = df['screenshot'].apply(extract_group)\n",
        "\n",
        "# 3) hard‑coded affordance → topic labels agreed earlier\n",
        "group_label = {\n",
        "    1: 'risk_governance',\n",
        "    2: 'budget_setting',\n",
        "    3: 'product_upsell',\n",
        "    4: 'fixed_cost_sustainability',\n",
        "    5: 'predictive_nudge',\n",
        "    6: 'midmonth_checkpoint',\n",
        "    7: 'cross_sell_offer',\n",
        "    8: 'insurance_upsell',\n",
        "    9: 'cross_sell_offer'          # adjust if Group 9 differs\n",
        "}\n",
        "\n",
        "df['label'] = df['group'].map(group_label)\n",
        "\n",
        "# 4) warn if anything couldn’t be mapped\n",
        "unmapped = df['label'].isna().sum()\n",
        "if unmapped:\n",
        "    print(f\"⚠️  {unmapped} rows still lack a label – check their group numbers\")\n",
        "\n",
        "# 5) save & show\n",
        "df.to_csv(MAP_FP, index=False)\n",
        "print(f\"✅ interface_mapping.csv updated at {MAP_FP}\")\n",
        "display(df.head())"
      ],
      "metadata": {
        "colab": {
          "base_uri": "https://localhost:8080/",
          "height": 223
        },
        "id": "PDe4xGYq4KE5",
        "outputId": "14b07c24-ef24-4f40-c196-1df6b84df5fe"
      },
      "execution_count": 25,
      "outputs": [
        {
          "output_type": "stream",
          "name": "stdout",
          "text": [
            "✅ interface_mapping.csv updated at /content/drive/MyDrive/Thesis Data/data_raw/interface_mapping.csv\n"
          ]
        },
        {
          "output_type": "display_data",
          "data": {
            "text/plain": [
              "                                          screenshot company  year  \\\n",
              "0  group 6 for klarna/19 April Klarna making a pa...  KLARNA  2025   \n",
              "1  group 6 for klarna/19 April Klarna making a pa...  KLARNA  2025   \n",
              "2  group 6 for klarna/19 April Klarna making a pa...  KLARNA  2025   \n",
              "3  group 6 for klarna/19 April Klarna making a pa...  KLARNA  2025   \n",
              "4  group 6 for klarna/19 April Klarna making a pa...  KLARNA  2025   \n",
              "\n",
              "                 label  group  \n",
              "0  midmonth_checkpoint      6  \n",
              "1  midmonth_checkpoint      6  \n",
              "2  midmonth_checkpoint      6  \n",
              "3  midmonth_checkpoint      6  \n",
              "4  midmonth_checkpoint      6  "
            ],
            "text/html": [
              "\n",
              "  <div id=\"df-cced5042-2ed4-4c4a-be49-4981a916a4f3\" class=\"colab-df-container\">\n",
              "    <div>\n",
              "<style scoped>\n",
              "    .dataframe tbody tr th:only-of-type {\n",
              "        vertical-align: middle;\n",
              "    }\n",
              "\n",
              "    .dataframe tbody tr th {\n",
              "        vertical-align: top;\n",
              "    }\n",
              "\n",
              "    .dataframe thead th {\n",
              "        text-align: right;\n",
              "    }\n",
              "</style>\n",
              "<table border=\"1\" class=\"dataframe\">\n",
              "  <thead>\n",
              "    <tr style=\"text-align: right;\">\n",
              "      <th></th>\n",
              "      <th>screenshot</th>\n",
              "      <th>company</th>\n",
              "      <th>year</th>\n",
              "      <th>label</th>\n",
              "      <th>group</th>\n",
              "    </tr>\n",
              "  </thead>\n",
              "  <tbody>\n",
              "    <tr>\n",
              "      <th>0</th>\n",
              "      <td>group 6 for klarna/19 April Klarna making a pa...</td>\n",
              "      <td>KLARNA</td>\n",
              "      <td>2025</td>\n",
              "      <td>midmonth_checkpoint</td>\n",
              "      <td>6</td>\n",
              "    </tr>\n",
              "    <tr>\n",
              "      <th>1</th>\n",
              "      <td>group 6 for klarna/19 April Klarna making a pa...</td>\n",
              "      <td>KLARNA</td>\n",
              "      <td>2025</td>\n",
              "      <td>midmonth_checkpoint</td>\n",
              "      <td>6</td>\n",
              "    </tr>\n",
              "    <tr>\n",
              "      <th>2</th>\n",
              "      <td>group 6 for klarna/19 April Klarna making a pa...</td>\n",
              "      <td>KLARNA</td>\n",
              "      <td>2025</td>\n",
              "      <td>midmonth_checkpoint</td>\n",
              "      <td>6</td>\n",
              "    </tr>\n",
              "    <tr>\n",
              "      <th>3</th>\n",
              "      <td>group 6 for klarna/19 April Klarna making a pa...</td>\n",
              "      <td>KLARNA</td>\n",
              "      <td>2025</td>\n",
              "      <td>midmonth_checkpoint</td>\n",
              "      <td>6</td>\n",
              "    </tr>\n",
              "    <tr>\n",
              "      <th>4</th>\n",
              "      <td>group 6 for klarna/19 April Klarna making a pa...</td>\n",
              "      <td>KLARNA</td>\n",
              "      <td>2025</td>\n",
              "      <td>midmonth_checkpoint</td>\n",
              "      <td>6</td>\n",
              "    </tr>\n",
              "  </tbody>\n",
              "</table>\n",
              "</div>\n",
              "    <div class=\"colab-df-buttons\">\n",
              "\n",
              "  <div class=\"colab-df-container\">\n",
              "    <button class=\"colab-df-convert\" onclick=\"convertToInteractive('df-cced5042-2ed4-4c4a-be49-4981a916a4f3')\"\n",
              "            title=\"Convert this dataframe to an interactive table.\"\n",
              "            style=\"display:none;\">\n",
              "\n",
              "  <svg xmlns=\"http://www.w3.org/2000/svg\" height=\"24px\" viewBox=\"0 -960 960 960\">\n",
              "    <path d=\"M120-120v-720h720v720H120Zm60-500h600v-160H180v160Zm220 220h160v-160H400v160Zm0 220h160v-160H400v160ZM180-400h160v-160H180v160Zm440 0h160v-160H620v160ZM180-180h160v-160H180v160Zm440 0h160v-160H620v160Z\"/>\n",
              "  </svg>\n",
              "    </button>\n",
              "\n",
              "  <style>\n",
              "    .colab-df-container {\n",
              "      display:flex;\n",
              "      gap: 12px;\n",
              "    }\n",
              "\n",
              "    .colab-df-convert {\n",
              "      background-color: #E8F0FE;\n",
              "      border: none;\n",
              "      border-radius: 50%;\n",
              "      cursor: pointer;\n",
              "      display: none;\n",
              "      fill: #1967D2;\n",
              "      height: 32px;\n",
              "      padding: 0 0 0 0;\n",
              "      width: 32px;\n",
              "    }\n",
              "\n",
              "    .colab-df-convert:hover {\n",
              "      background-color: #E2EBFA;\n",
              "      box-shadow: 0px 1px 2px rgba(60, 64, 67, 0.3), 0px 1px 3px 1px rgba(60, 64, 67, 0.15);\n",
              "      fill: #174EA6;\n",
              "    }\n",
              "\n",
              "    .colab-df-buttons div {\n",
              "      margin-bottom: 4px;\n",
              "    }\n",
              "\n",
              "    [theme=dark] .colab-df-convert {\n",
              "      background-color: #3B4455;\n",
              "      fill: #D2E3FC;\n",
              "    }\n",
              "\n",
              "    [theme=dark] .colab-df-convert:hover {\n",
              "      background-color: #434B5C;\n",
              "      box-shadow: 0px 1px 3px 1px rgba(0, 0, 0, 0.15);\n",
              "      filter: drop-shadow(0px 1px 2px rgba(0, 0, 0, 0.3));\n",
              "      fill: #FFFFFF;\n",
              "    }\n",
              "  </style>\n",
              "\n",
              "    <script>\n",
              "      const buttonEl =\n",
              "        document.querySelector('#df-cced5042-2ed4-4c4a-be49-4981a916a4f3 button.colab-df-convert');\n",
              "      buttonEl.style.display =\n",
              "        google.colab.kernel.accessAllowed ? 'block' : 'none';\n",
              "\n",
              "      async function convertToInteractive(key) {\n",
              "        const element = document.querySelector('#df-cced5042-2ed4-4c4a-be49-4981a916a4f3');\n",
              "        const dataTable =\n",
              "          await google.colab.kernel.invokeFunction('convertToInteractive',\n",
              "                                                    [key], {});\n",
              "        if (!dataTable) return;\n",
              "\n",
              "        const docLinkHtml = 'Like what you see? Visit the ' +\n",
              "          '<a target=\"_blank\" href=https://colab.research.google.com/notebooks/data_table.ipynb>data table notebook</a>'\n",
              "          + ' to learn more about interactive tables.';\n",
              "        element.innerHTML = '';\n",
              "        dataTable['output_type'] = 'display_data';\n",
              "        await google.colab.output.renderOutput(dataTable, element);\n",
              "        const docLink = document.createElement('div');\n",
              "        docLink.innerHTML = docLinkHtml;\n",
              "        element.appendChild(docLink);\n",
              "      }\n",
              "    </script>\n",
              "  </div>\n",
              "\n",
              "\n",
              "    <div id=\"df-ad7c7069-8db3-4dff-8667-99376c6841a8\">\n",
              "      <button class=\"colab-df-quickchart\" onclick=\"quickchart('df-ad7c7069-8db3-4dff-8667-99376c6841a8')\"\n",
              "                title=\"Suggest charts\"\n",
              "                style=\"display:none;\">\n",
              "\n",
              "<svg xmlns=\"http://www.w3.org/2000/svg\" height=\"24px\"viewBox=\"0 0 24 24\"\n",
              "     width=\"24px\">\n",
              "    <g>\n",
              "        <path d=\"M19 3H5c-1.1 0-2 .9-2 2v14c0 1.1.9 2 2 2h14c1.1 0 2-.9 2-2V5c0-1.1-.9-2-2-2zM9 17H7v-7h2v7zm4 0h-2V7h2v10zm4 0h-2v-4h2v4z\"/>\n",
              "    </g>\n",
              "</svg>\n",
              "      </button>\n",
              "\n",
              "<style>\n",
              "  .colab-df-quickchart {\n",
              "      --bg-color: #E8F0FE;\n",
              "      --fill-color: #1967D2;\n",
              "      --hover-bg-color: #E2EBFA;\n",
              "      --hover-fill-color: #174EA6;\n",
              "      --disabled-fill-color: #AAA;\n",
              "      --disabled-bg-color: #DDD;\n",
              "  }\n",
              "\n",
              "  [theme=dark] .colab-df-quickchart {\n",
              "      --bg-color: #3B4455;\n",
              "      --fill-color: #D2E3FC;\n",
              "      --hover-bg-color: #434B5C;\n",
              "      --hover-fill-color: #FFFFFF;\n",
              "      --disabled-bg-color: #3B4455;\n",
              "      --disabled-fill-color: #666;\n",
              "  }\n",
              "\n",
              "  .colab-df-quickchart {\n",
              "    background-color: var(--bg-color);\n",
              "    border: none;\n",
              "    border-radius: 50%;\n",
              "    cursor: pointer;\n",
              "    display: none;\n",
              "    fill: var(--fill-color);\n",
              "    height: 32px;\n",
              "    padding: 0;\n",
              "    width: 32px;\n",
              "  }\n",
              "\n",
              "  .colab-df-quickchart:hover {\n",
              "    background-color: var(--hover-bg-color);\n",
              "    box-shadow: 0 1px 2px rgba(60, 64, 67, 0.3), 0 1px 3px 1px rgba(60, 64, 67, 0.15);\n",
              "    fill: var(--button-hover-fill-color);\n",
              "  }\n",
              "\n",
              "  .colab-df-quickchart-complete:disabled,\n",
              "  .colab-df-quickchart-complete:disabled:hover {\n",
              "    background-color: var(--disabled-bg-color);\n",
              "    fill: var(--disabled-fill-color);\n",
              "    box-shadow: none;\n",
              "  }\n",
              "\n",
              "  .colab-df-spinner {\n",
              "    border: 2px solid var(--fill-color);\n",
              "    border-color: transparent;\n",
              "    border-bottom-color: var(--fill-color);\n",
              "    animation:\n",
              "      spin 1s steps(1) infinite;\n",
              "  }\n",
              "\n",
              "  @keyframes spin {\n",
              "    0% {\n",
              "      border-color: transparent;\n",
              "      border-bottom-color: var(--fill-color);\n",
              "      border-left-color: var(--fill-color);\n",
              "    }\n",
              "    20% {\n",
              "      border-color: transparent;\n",
              "      border-left-color: var(--fill-color);\n",
              "      border-top-color: var(--fill-color);\n",
              "    }\n",
              "    30% {\n",
              "      border-color: transparent;\n",
              "      border-left-color: var(--fill-color);\n",
              "      border-top-color: var(--fill-color);\n",
              "      border-right-color: var(--fill-color);\n",
              "    }\n",
              "    40% {\n",
              "      border-color: transparent;\n",
              "      border-right-color: var(--fill-color);\n",
              "      border-top-color: var(--fill-color);\n",
              "    }\n",
              "    60% {\n",
              "      border-color: transparent;\n",
              "      border-right-color: var(--fill-color);\n",
              "    }\n",
              "    80% {\n",
              "      border-color: transparent;\n",
              "      border-right-color: var(--fill-color);\n",
              "      border-bottom-color: var(--fill-color);\n",
              "    }\n",
              "    90% {\n",
              "      border-color: transparent;\n",
              "      border-bottom-color: var(--fill-color);\n",
              "    }\n",
              "  }\n",
              "</style>\n",
              "\n",
              "      <script>\n",
              "        async function quickchart(key) {\n",
              "          const quickchartButtonEl =\n",
              "            document.querySelector('#' + key + ' button');\n",
              "          quickchartButtonEl.disabled = true;  // To prevent multiple clicks.\n",
              "          quickchartButtonEl.classList.add('colab-df-spinner');\n",
              "          try {\n",
              "            const charts = await google.colab.kernel.invokeFunction(\n",
              "                'suggestCharts', [key], {});\n",
              "          } catch (error) {\n",
              "            console.error('Error during call to suggestCharts:', error);\n",
              "          }\n",
              "          quickchartButtonEl.classList.remove('colab-df-spinner');\n",
              "          quickchartButtonEl.classList.add('colab-df-quickchart-complete');\n",
              "        }\n",
              "        (() => {\n",
              "          let quickchartButtonEl =\n",
              "            document.querySelector('#df-ad7c7069-8db3-4dff-8667-99376c6841a8 button');\n",
              "          quickchartButtonEl.style.display =\n",
              "            google.colab.kernel.accessAllowed ? 'block' : 'none';\n",
              "        })();\n",
              "      </script>\n",
              "    </div>\n",
              "\n",
              "    </div>\n",
              "  </div>\n"
            ],
            "application/vnd.google.colaboratory.intrinsic+json": {
              "type": "dataframe",
              "summary": "{\n  \"name\": \"display(df\",\n  \"rows\": 5,\n  \"fields\": [\n    {\n      \"column\": \"screenshot\",\n      \"properties\": {\n        \"dtype\": \"string\",\n        \"num_unique_values\": 5,\n        \"samples\": [\n          \"group 6 for klarna/19 April Klarna making a payment, payments and deals 2.PNG\",\n          \"group 6 for klarna/19 April Klarna making a payment, payments and deals 5.PNG\",\n          \"group 6 for klarna/19 April Klarna making a payment, payments and deals 3.PNG\"\n        ],\n        \"semantic_type\": \"\",\n        \"description\": \"\"\n      }\n    },\n    {\n      \"column\": \"company\",\n      \"properties\": {\n        \"dtype\": \"category\",\n        \"num_unique_values\": 1,\n        \"samples\": [\n          \"KLARNA\"\n        ],\n        \"semantic_type\": \"\",\n        \"description\": \"\"\n      }\n    },\n    {\n      \"column\": \"year\",\n      \"properties\": {\n        \"dtype\": \"number\",\n        \"std\": 0,\n        \"min\": 2025,\n        \"max\": 2025,\n        \"num_unique_values\": 1,\n        \"samples\": [\n          2025\n        ],\n        \"semantic_type\": \"\",\n        \"description\": \"\"\n      }\n    },\n    {\n      \"column\": \"label\",\n      \"properties\": {\n        \"dtype\": \"category\",\n        \"num_unique_values\": 1,\n        \"samples\": [\n          \"midmonth_checkpoint\"\n        ],\n        \"semantic_type\": \"\",\n        \"description\": \"\"\n      }\n    },\n    {\n      \"column\": \"group\",\n      \"properties\": {\n        \"dtype\": \"number\",\n        \"std\": 0,\n        \"min\": 6,\n        \"max\": 6,\n        \"num_unique_values\": 1,\n        \"samples\": [\n          6\n        ],\n        \"semantic_type\": \"\",\n        \"description\": \"\"\n      }\n    }\n  ]\n}"
            }
          },
          "metadata": {}
        }
      ]
    },
    {
      "cell_type": "code",
      "source": [
        "import re\n",
        "import calendar\n",
        "\n",
        "def parse_year(path:str):\n",
        "    # isolate the part after the slash\n",
        "    name = path.split(\"/\",1)[-1]\n",
        "    # look for day + month name (allowing no space)\n",
        "    m = re.search(r\"(\\d{1,2})\\s*([A-Za-z]{3,9})\", name)\n",
        "    if not m:\n",
        "        return None\n",
        "    mon = m.group(2)\n",
        "    # take first three letters, capitalize so strptime works\n",
        "    try:\n",
        "        mon_num = datetime.datetime.strptime(mon[:3].title(), \"%b\").month\n",
        "    except:\n",
        "        return None\n",
        "    # months Jan–Feb → 2025, else 2024\n",
        "    return 2025 if mon_num <= 2 else 2024\n",
        "\n",
        "df_map['year'] = df_map['screenshot'].apply(parse_year)\n",
        "unmapped = df_map['year'].isna().sum()\n",
        "print(f\"⏳ Now {unmapped} screenshots still lack a year\")"
      ],
      "metadata": {
        "colab": {
          "base_uri": "https://localhost:8080/"
        },
        "id": "rGARTbBU9YDR",
        "outputId": "6435aef5-8189-450e-b820-4b12b2418212"
      },
      "execution_count": 38,
      "outputs": [
        {
          "output_type": "stream",
          "name": "stdout",
          "text": [
            "⏳ Now 0 screenshots still lack a year\n"
          ]
        }
      ]
    },
    {
      "cell_type": "code",
      "source": [
        "# ── Cell X: build discourse_design_matrix.csv (fixed company & year parsing) ──\n",
        "\n",
        "import os, re, pickle, numpy as np\n",
        "import pandas as pd\n",
        "import datetime\n",
        "from pathlib import Path\n",
        "from gensim import corpora, models\n",
        "\n",
        "BASE        = '/content/drive/MyDrive/Thesis Data'\n",
        "MAP_FP      = os.path.join(BASE, 'data_raw', 'interface_mapping.csv')\n",
        "PDF_DIR     = os.path.join(BASE, 'data_raw', 'pdfs')\n",
        "PROC_DIR    = os.path.join(BASE, 'data_processed')\n",
        "OUT_FP      = os.path.join(PROC_DIR, 'discourse_design_matrix.csv')\n",
        "\n",
        "# 1) load screenshot mapping\n",
        "df_map = pd.read_csv(MAP_FP)\n",
        "\n",
        "# 2) parse year from screenshot filename (before March → 2025, else 2024)\n",
        "import calendar\n",
        "def parse_year_screenshot(path):\n",
        "    fname = path.rsplit(\"/\",1)[-1]\n",
        "    m = re.search(r\"(\\d{1,2})\\s*([A-Za-z]+)\", fname)\n",
        "    if not m:\n",
        "        return np.nan\n",
        "    day, mon_raw = m.groups()\n",
        "    # find matching month number\n",
        "    monnum = next((i for i,mname in enumerate(calendar.month_name[1:],1)\n",
        "                   if mon_raw.lower().startswith(mname.lower())), None)\n",
        "    if monnum is None:\n",
        "        return np.nan\n",
        "    return 2025 if monnum <= 2 else 2024\n",
        "\n",
        "df_map['year'] = df_map['screenshot'].apply(parse_year_screenshot)\n",
        "bad = df_map[df_map['year'].isna()]\n",
        "if len(bad):\n",
        "    print(\"⚠️ Could not infer year for these screenshots, dropping them:\")\n",
        "    display(bad[['screenshot']])\n",
        "df_map = df_map.dropna(subset=['year']).copy()\n",
        "df_map['year'] = df_map['year'].astype(int)\n",
        "\n",
        "# 3) build PDF lookup (extract year from filename, fallback for Klarna‑Holding)\n",
        "pdf_records = []\n",
        "for p in sorted(Path(PDF_DIR).rglob(\"*.pdf\")):\n",
        "    name = p.name\n",
        "    m = re.search(r\"(20[0-9]{2})\", name)\n",
        "    if m:\n",
        "        y = int(m.group(1))\n",
        "    else:\n",
        "        # the one-off Klarna‑Holding file\n",
        "        if \"klarna-holding\" in name.lower():\n",
        "            y = 2017\n",
        "            print(f\"ℹ️ Assigning year=2017 to {name}\")\n",
        "        else:\n",
        "            raise ValueError(f\"Could not extract year from PDF filename: {name}\")\n",
        "    comp = \"KLARNA\" if \"klarna\" in name.lower() else \"ING\"\n",
        "    pdf_records.append({'pdf_path':str(p), 'company':comp, 'year':y})\n",
        "pdf_df = pd.DataFrame(pdf_records)\n",
        "pdf_df['doc_id'] = pdf_df.index\n",
        "\n",
        "# 4) merge screenshots → doc_id by company+year\n",
        "df_map = df_map.merge(\n",
        "    pdf_df[['company','year','doc_id']],\n",
        "    on=['company','year'],\n",
        "    how='left'\n",
        ")\n",
        "miss = df_map['doc_id'].isna().sum()\n",
        "if miss:\n",
        "    print(f\"⚠️ {miss} screenshots failed to match a PDF and will be dropped\")\n",
        "df_map = df_map.dropna(subset=['doc_id']).copy()\n",
        "df_map['doc_id'] = df_map['doc_id'].astype(int)\n",
        "\n",
        "# 5) load LDA model + data\n",
        "lda        = models.LdaMulticore.load(os.path.join(PROC_DIR,'lda_final.model'))\n",
        "dictionary = corpora.Dictionary.load(os.path.join(PROC_DIR,'lda_final.model.id2word'))\n",
        "tokenized  = pickle.load(open(os.path.join(PROC_DIR,'tokenized_corpus.pkl'),'rb'))\n",
        "corpus     = [dictionary.doc2bow(doc) for doc in tokenized]\n",
        "raw_texts  = pickle.load(open(os.path.join(PROC_DIR,'raw_texts.pkl'),'rb'))\n",
        "\n",
        "# 6) assign each screenshot its top topic\n",
        "rows = []\n",
        "for _, r in df_map.iterrows():\n",
        "    bow = corpus[r.doc_id]\n",
        "    tid, prob = max(lda.get_document_topics(bow), key=lambda x:x[1])\n",
        "    topw = [w for w,_ in lda.show_topic(tid, topn=10)]\n",
        "    rows.append({\n",
        "      'screenshot': r['screenshot'],\n",
        "      'company':    r['company'],\n",
        "      'year':       r['year'],\n",
        "      'label':      r['label'],\n",
        "      'doc_id':     r['doc_id'],\n",
        "      'topic_id':   tid,\n",
        "      'topic_prob': prob,\n",
        "      'top_words':  \", \".join(topw),\n",
        "      'excerpt':    raw_texts[r.doc_id][:200].replace(\"\\n\",\" \")\n",
        "    })\n",
        "\n",
        "# 7) save and preview\n",
        "pd.DataFrame(rows).to_csv(OUT_FP, index=False)\n",
        "print(\"✅ Wrote\", OUT_FP)\n",
        "pd.DataFrame(rows).head()"
      ],
      "metadata": {
        "colab": {
          "base_uri": "https://localhost:8080/",
          "height": 258
        },
        "id": "aDejTsXT5FBo",
        "outputId": "c6c6635b-9c4a-4501-8468-8e8c207be093"
      },
      "execution_count": 42,
      "outputs": [
        {
          "output_type": "stream",
          "name": "stdout",
          "text": [
            "ℹ️ Assigning year=2017 to Klarna-Holding-AB_English.pdf\n",
            "⚠️ 1 screenshots failed to match a PDF and will be dropped\n",
            "✅ Wrote /content/drive/MyDrive/Thesis Data/data_processed/discourse_design_matrix.csv\n"
          ]
        },
        {
          "output_type": "execute_result",
          "data": {
            "text/plain": [
              "                                          screenshot company  year  \\\n",
              "0  group 6 for klarna/19 April Klarna making a pa...  KLARNA  2024   \n",
              "1  group 6 for klarna/19 April Klarna making a pa...  KLARNA  2024   \n",
              "2  group 6 for klarna/19 April Klarna making a pa...  KLARNA  2024   \n",
              "3  group 6 for klarna/19 April Klarna making a pa...  KLARNA  2024   \n",
              "4  group 6 for klarna/19 April Klarna making a pa...  KLARNA  2024   \n",
              "\n",
              "                 label  doc_id  topic_id  topic_prob  \\\n",
              "0  midmonth_checkpoint      22         8    0.999875   \n",
              "1  midmonth_checkpoint      26         8    0.999946   \n",
              "2  midmonth_checkpoint      46         8    0.999875   \n",
              "3  midmonth_checkpoint      22         8    0.999875   \n",
              "4  midmonth_checkpoint      26         8    0.999946   \n",
              "\n",
              "                      top_words  \\\n",
              "0  e, s, n, r, t, d, m, l, o, b   \n",
              "1  e, s, n, r, t, d, m, l, o, b   \n",
              "2  e, s, n, r, t, d, m, l, o, b   \n",
              "3  e, s, n, r, t, d, m, l, o, b   \n",
              "4  e, s, n, r, t, d, m, l, o, b   \n",
              "\n",
              "                                             excerpt  \n",
              "0  “J a n u a r y t o S e p t e m b e r 2 0 2 4 R...  \n",
              "1  In terim R ep or tJ a n u a r y - J u n e 2 0 ...  \n",
              "2  “J a n u a r y t o S e p t e m b e r 2 0 2 4 R...  \n",
              "3  “J a n u a r y t o S e p t e m b e r 2 0 2 4 R...  \n",
              "4  In terim R ep or tJ a n u a r y - J u n e 2 0 ...  "
            ],
            "text/html": [
              "\n",
              "  <div id=\"df-55a7f057-89e1-4297-8264-97090c30a147\" class=\"colab-df-container\">\n",
              "    <div>\n",
              "<style scoped>\n",
              "    .dataframe tbody tr th:only-of-type {\n",
              "        vertical-align: middle;\n",
              "    }\n",
              "\n",
              "    .dataframe tbody tr th {\n",
              "        vertical-align: top;\n",
              "    }\n",
              "\n",
              "    .dataframe thead th {\n",
              "        text-align: right;\n",
              "    }\n",
              "</style>\n",
              "<table border=\"1\" class=\"dataframe\">\n",
              "  <thead>\n",
              "    <tr style=\"text-align: right;\">\n",
              "      <th></th>\n",
              "      <th>screenshot</th>\n",
              "      <th>company</th>\n",
              "      <th>year</th>\n",
              "      <th>label</th>\n",
              "      <th>doc_id</th>\n",
              "      <th>topic_id</th>\n",
              "      <th>topic_prob</th>\n",
              "      <th>top_words</th>\n",
              "      <th>excerpt</th>\n",
              "    </tr>\n",
              "  </thead>\n",
              "  <tbody>\n",
              "    <tr>\n",
              "      <th>0</th>\n",
              "      <td>group 6 for klarna/19 April Klarna making a pa...</td>\n",
              "      <td>KLARNA</td>\n",
              "      <td>2024</td>\n",
              "      <td>midmonth_checkpoint</td>\n",
              "      <td>22</td>\n",
              "      <td>8</td>\n",
              "      <td>0.999875</td>\n",
              "      <td>e, s, n, r, t, d, m, l, o, b</td>\n",
              "      <td>“J a n u a r y t o S e p t e m b e r 2 0 2 4 R...</td>\n",
              "    </tr>\n",
              "    <tr>\n",
              "      <th>1</th>\n",
              "      <td>group 6 for klarna/19 April Klarna making a pa...</td>\n",
              "      <td>KLARNA</td>\n",
              "      <td>2024</td>\n",
              "      <td>midmonth_checkpoint</td>\n",
              "      <td>26</td>\n",
              "      <td>8</td>\n",
              "      <td>0.999946</td>\n",
              "      <td>e, s, n, r, t, d, m, l, o, b</td>\n",
              "      <td>In terim R ep or tJ a n u a r y - J u n e 2 0 ...</td>\n",
              "    </tr>\n",
              "    <tr>\n",
              "      <th>2</th>\n",
              "      <td>group 6 for klarna/19 April Klarna making a pa...</td>\n",
              "      <td>KLARNA</td>\n",
              "      <td>2024</td>\n",
              "      <td>midmonth_checkpoint</td>\n",
              "      <td>46</td>\n",
              "      <td>8</td>\n",
              "      <td>0.999875</td>\n",
              "      <td>e, s, n, r, t, d, m, l, o, b</td>\n",
              "      <td>“J a n u a r y t o S e p t e m b e r 2 0 2 4 R...</td>\n",
              "    </tr>\n",
              "    <tr>\n",
              "      <th>3</th>\n",
              "      <td>group 6 for klarna/19 April Klarna making a pa...</td>\n",
              "      <td>KLARNA</td>\n",
              "      <td>2024</td>\n",
              "      <td>midmonth_checkpoint</td>\n",
              "      <td>22</td>\n",
              "      <td>8</td>\n",
              "      <td>0.999875</td>\n",
              "      <td>e, s, n, r, t, d, m, l, o, b</td>\n",
              "      <td>“J a n u a r y t o S e p t e m b e r 2 0 2 4 R...</td>\n",
              "    </tr>\n",
              "    <tr>\n",
              "      <th>4</th>\n",
              "      <td>group 6 for klarna/19 April Klarna making a pa...</td>\n",
              "      <td>KLARNA</td>\n",
              "      <td>2024</td>\n",
              "      <td>midmonth_checkpoint</td>\n",
              "      <td>26</td>\n",
              "      <td>8</td>\n",
              "      <td>0.999946</td>\n",
              "      <td>e, s, n, r, t, d, m, l, o, b</td>\n",
              "      <td>In terim R ep or tJ a n u a r y - J u n e 2 0 ...</td>\n",
              "    </tr>\n",
              "  </tbody>\n",
              "</table>\n",
              "</div>\n",
              "    <div class=\"colab-df-buttons\">\n",
              "\n",
              "  <div class=\"colab-df-container\">\n",
              "    <button class=\"colab-df-convert\" onclick=\"convertToInteractive('df-55a7f057-89e1-4297-8264-97090c30a147')\"\n",
              "            title=\"Convert this dataframe to an interactive table.\"\n",
              "            style=\"display:none;\">\n",
              "\n",
              "  <svg xmlns=\"http://www.w3.org/2000/svg\" height=\"24px\" viewBox=\"0 -960 960 960\">\n",
              "    <path d=\"M120-120v-720h720v720H120Zm60-500h600v-160H180v160Zm220 220h160v-160H400v160Zm0 220h160v-160H400v160ZM180-400h160v-160H180v160Zm440 0h160v-160H620v160ZM180-180h160v-160H180v160Zm440 0h160v-160H620v160Z\"/>\n",
              "  </svg>\n",
              "    </button>\n",
              "\n",
              "  <style>\n",
              "    .colab-df-container {\n",
              "      display:flex;\n",
              "      gap: 12px;\n",
              "    }\n",
              "\n",
              "    .colab-df-convert {\n",
              "      background-color: #E8F0FE;\n",
              "      border: none;\n",
              "      border-radius: 50%;\n",
              "      cursor: pointer;\n",
              "      display: none;\n",
              "      fill: #1967D2;\n",
              "      height: 32px;\n",
              "      padding: 0 0 0 0;\n",
              "      width: 32px;\n",
              "    }\n",
              "\n",
              "    .colab-df-convert:hover {\n",
              "      background-color: #E2EBFA;\n",
              "      box-shadow: 0px 1px 2px rgba(60, 64, 67, 0.3), 0px 1px 3px 1px rgba(60, 64, 67, 0.15);\n",
              "      fill: #174EA6;\n",
              "    }\n",
              "\n",
              "    .colab-df-buttons div {\n",
              "      margin-bottom: 4px;\n",
              "    }\n",
              "\n",
              "    [theme=dark] .colab-df-convert {\n",
              "      background-color: #3B4455;\n",
              "      fill: #D2E3FC;\n",
              "    }\n",
              "\n",
              "    [theme=dark] .colab-df-convert:hover {\n",
              "      background-color: #434B5C;\n",
              "      box-shadow: 0px 1px 3px 1px rgba(0, 0, 0, 0.15);\n",
              "      filter: drop-shadow(0px 1px 2px rgba(0, 0, 0, 0.3));\n",
              "      fill: #FFFFFF;\n",
              "    }\n",
              "  </style>\n",
              "\n",
              "    <script>\n",
              "      const buttonEl =\n",
              "        document.querySelector('#df-55a7f057-89e1-4297-8264-97090c30a147 button.colab-df-convert');\n",
              "      buttonEl.style.display =\n",
              "        google.colab.kernel.accessAllowed ? 'block' : 'none';\n",
              "\n",
              "      async function convertToInteractive(key) {\n",
              "        const element = document.querySelector('#df-55a7f057-89e1-4297-8264-97090c30a147');\n",
              "        const dataTable =\n",
              "          await google.colab.kernel.invokeFunction('convertToInteractive',\n",
              "                                                    [key], {});\n",
              "        if (!dataTable) return;\n",
              "\n",
              "        const docLinkHtml = 'Like what you see? Visit the ' +\n",
              "          '<a target=\"_blank\" href=https://colab.research.google.com/notebooks/data_table.ipynb>data table notebook</a>'\n",
              "          + ' to learn more about interactive tables.';\n",
              "        element.innerHTML = '';\n",
              "        dataTable['output_type'] = 'display_data';\n",
              "        await google.colab.output.renderOutput(dataTable, element);\n",
              "        const docLink = document.createElement('div');\n",
              "        docLink.innerHTML = docLinkHtml;\n",
              "        element.appendChild(docLink);\n",
              "      }\n",
              "    </script>\n",
              "  </div>\n",
              "\n",
              "\n",
              "    <div id=\"df-bbbf4b93-3676-4cf3-8af0-fcf2bae96230\">\n",
              "      <button class=\"colab-df-quickchart\" onclick=\"quickchart('df-bbbf4b93-3676-4cf3-8af0-fcf2bae96230')\"\n",
              "                title=\"Suggest charts\"\n",
              "                style=\"display:none;\">\n",
              "\n",
              "<svg xmlns=\"http://www.w3.org/2000/svg\" height=\"24px\"viewBox=\"0 0 24 24\"\n",
              "     width=\"24px\">\n",
              "    <g>\n",
              "        <path d=\"M19 3H5c-1.1 0-2 .9-2 2v14c0 1.1.9 2 2 2h14c1.1 0 2-.9 2-2V5c0-1.1-.9-2-2-2zM9 17H7v-7h2v7zm4 0h-2V7h2v10zm4 0h-2v-4h2v4z\"/>\n",
              "    </g>\n",
              "</svg>\n",
              "      </button>\n",
              "\n",
              "<style>\n",
              "  .colab-df-quickchart {\n",
              "      --bg-color: #E8F0FE;\n",
              "      --fill-color: #1967D2;\n",
              "      --hover-bg-color: #E2EBFA;\n",
              "      --hover-fill-color: #174EA6;\n",
              "      --disabled-fill-color: #AAA;\n",
              "      --disabled-bg-color: #DDD;\n",
              "  }\n",
              "\n",
              "  [theme=dark] .colab-df-quickchart {\n",
              "      --bg-color: #3B4455;\n",
              "      --fill-color: #D2E3FC;\n",
              "      --hover-bg-color: #434B5C;\n",
              "      --hover-fill-color: #FFFFFF;\n",
              "      --disabled-bg-color: #3B4455;\n",
              "      --disabled-fill-color: #666;\n",
              "  }\n",
              "\n",
              "  .colab-df-quickchart {\n",
              "    background-color: var(--bg-color);\n",
              "    border: none;\n",
              "    border-radius: 50%;\n",
              "    cursor: pointer;\n",
              "    display: none;\n",
              "    fill: var(--fill-color);\n",
              "    height: 32px;\n",
              "    padding: 0;\n",
              "    width: 32px;\n",
              "  }\n",
              "\n",
              "  .colab-df-quickchart:hover {\n",
              "    background-color: var(--hover-bg-color);\n",
              "    box-shadow: 0 1px 2px rgba(60, 64, 67, 0.3), 0 1px 3px 1px rgba(60, 64, 67, 0.15);\n",
              "    fill: var(--button-hover-fill-color);\n",
              "  }\n",
              "\n",
              "  .colab-df-quickchart-complete:disabled,\n",
              "  .colab-df-quickchart-complete:disabled:hover {\n",
              "    background-color: var(--disabled-bg-color);\n",
              "    fill: var(--disabled-fill-color);\n",
              "    box-shadow: none;\n",
              "  }\n",
              "\n",
              "  .colab-df-spinner {\n",
              "    border: 2px solid var(--fill-color);\n",
              "    border-color: transparent;\n",
              "    border-bottom-color: var(--fill-color);\n",
              "    animation:\n",
              "      spin 1s steps(1) infinite;\n",
              "  }\n",
              "\n",
              "  @keyframes spin {\n",
              "    0% {\n",
              "      border-color: transparent;\n",
              "      border-bottom-color: var(--fill-color);\n",
              "      border-left-color: var(--fill-color);\n",
              "    }\n",
              "    20% {\n",
              "      border-color: transparent;\n",
              "      border-left-color: var(--fill-color);\n",
              "      border-top-color: var(--fill-color);\n",
              "    }\n",
              "    30% {\n",
              "      border-color: transparent;\n",
              "      border-left-color: var(--fill-color);\n",
              "      border-top-color: var(--fill-color);\n",
              "      border-right-color: var(--fill-color);\n",
              "    }\n",
              "    40% {\n",
              "      border-color: transparent;\n",
              "      border-right-color: var(--fill-color);\n",
              "      border-top-color: var(--fill-color);\n",
              "    }\n",
              "    60% {\n",
              "      border-color: transparent;\n",
              "      border-right-color: var(--fill-color);\n",
              "    }\n",
              "    80% {\n",
              "      border-color: transparent;\n",
              "      border-right-color: var(--fill-color);\n",
              "      border-bottom-color: var(--fill-color);\n",
              "    }\n",
              "    90% {\n",
              "      border-color: transparent;\n",
              "      border-bottom-color: var(--fill-color);\n",
              "    }\n",
              "  }\n",
              "</style>\n",
              "\n",
              "      <script>\n",
              "        async function quickchart(key) {\n",
              "          const quickchartButtonEl =\n",
              "            document.querySelector('#' + key + ' button');\n",
              "          quickchartButtonEl.disabled = true;  // To prevent multiple clicks.\n",
              "          quickchartButtonEl.classList.add('colab-df-spinner');\n",
              "          try {\n",
              "            const charts = await google.colab.kernel.invokeFunction(\n",
              "                'suggestCharts', [key], {});\n",
              "          } catch (error) {\n",
              "            console.error('Error during call to suggestCharts:', error);\n",
              "          }\n",
              "          quickchartButtonEl.classList.remove('colab-df-spinner');\n",
              "          quickchartButtonEl.classList.add('colab-df-quickchart-complete');\n",
              "        }\n",
              "        (() => {\n",
              "          let quickchartButtonEl =\n",
              "            document.querySelector('#df-bbbf4b93-3676-4cf3-8af0-fcf2bae96230 button');\n",
              "          quickchartButtonEl.style.display =\n",
              "            google.colab.kernel.accessAllowed ? 'block' : 'none';\n",
              "        })();\n",
              "      </script>\n",
              "    </div>\n",
              "\n",
              "    </div>\n",
              "  </div>\n"
            ],
            "application/vnd.google.colaboratory.intrinsic+json": {
              "type": "dataframe",
              "summary": "{\n  \"name\": \"pd\",\n  \"rows\": 5,\n  \"fields\": [\n    {\n      \"column\": \"screenshot\",\n      \"properties\": {\n        \"dtype\": \"category\",\n        \"num_unique_values\": 2,\n        \"samples\": [\n          \"group 6 for klarna/19 April Klarna making a payment, payments and deals 2.PNG\",\n          \"group 6 for klarna/19 April Klarna making a payment, payments and deals.PNG\"\n        ],\n        \"semantic_type\": \"\",\n        \"description\": \"\"\n      }\n    },\n    {\n      \"column\": \"company\",\n      \"properties\": {\n        \"dtype\": \"category\",\n        \"num_unique_values\": 1,\n        \"samples\": [\n          \"KLARNA\"\n        ],\n        \"semantic_type\": \"\",\n        \"description\": \"\"\n      }\n    },\n    {\n      \"column\": \"year\",\n      \"properties\": {\n        \"dtype\": \"number\",\n        \"std\": 0,\n        \"min\": 2024,\n        \"max\": 2024,\n        \"num_unique_values\": 1,\n        \"samples\": [\n          2024\n        ],\n        \"semantic_type\": \"\",\n        \"description\": \"\"\n      }\n    },\n    {\n      \"column\": \"label\",\n      \"properties\": {\n        \"dtype\": \"category\",\n        \"num_unique_values\": 1,\n        \"samples\": [\n          \"midmonth_checkpoint\"\n        ],\n        \"semantic_type\": \"\",\n        \"description\": \"\"\n      }\n    },\n    {\n      \"column\": \"doc_id\",\n      \"properties\": {\n        \"dtype\": \"number\",\n        \"std\": 10,\n        \"min\": 22,\n        \"max\": 46,\n        \"num_unique_values\": 3,\n        \"samples\": [\n          22\n        ],\n        \"semantic_type\": \"\",\n        \"description\": \"\"\n      }\n    },\n    {\n      \"column\": \"topic_id\",\n      \"properties\": {\n        \"dtype\": \"number\",\n        \"std\": 0,\n        \"min\": 8,\n        \"max\": 8,\n        \"num_unique_values\": 1,\n        \"samples\": [\n          8\n        ],\n        \"semantic_type\": \"\",\n        \"description\": \"\"\n      }\n    },\n    {\n      \"column\": \"topic_prob\",\n      \"properties\": {\n        \"dtype\": \"float32\",\n        \"num_unique_values\": 2,\n        \"samples\": [\n          0.9999460577964783\n        ],\n        \"semantic_type\": \"\",\n        \"description\": \"\"\n      }\n    },\n    {\n      \"column\": \"top_words\",\n      \"properties\": {\n        \"dtype\": \"category\",\n        \"num_unique_values\": 1,\n        \"samples\": [\n          \"e, s, n, r, t, d, m, l, o, b\"\n        ],\n        \"semantic_type\": \"\",\n        \"description\": \"\"\n      }\n    },\n    {\n      \"column\": \"excerpt\",\n      \"properties\": {\n        \"dtype\": \"category\",\n        \"num_unique_values\": 2,\n        \"samples\": [\n          \"In terim R ep or tJ a n u a r y - J u n e 2 0 2 4 K l a r n a H o l d i n g A B ( p u b l ) . O r g a n i z a t i o n n o . 5 5 6 6 7 6 - 2 3 5 6 Con ten tsF i n a n c i a l p e r f o r m a n c e L e \"\n        ],\n        \"semantic_type\": \"\",\n        \"description\": \"\"\n      }\n    }\n  ]\n}"
            }
          },
          "metadata": {},
          "execution_count": 42
        }
      ]
    },
    {
      "cell_type": "code",
      "source": [
        "# ── Cell 6.5: Persist manual affordance→topic mapping & build micro_codebook.yml\n",
        "import json, os, yaml, pandas as pd\n",
        "\n",
        "# your manual label→topic assignments\n",
        "manual_mapping = {\n",
        "  'risk_governance':             0,\n",
        "  'esg_toggle':                  12,\n",
        "  'product_upsell':              7,\n",
        "  'cross_sell_offer':            7,\n",
        "  'budget_setting':              9,\n",
        "  'fixed_cost_sustainability':   12,\n",
        "  'insurance_upsell':            3,\n",
        "  'midmonth_checkpoint':         6,\n",
        "  'predictive_nudge':            6\n",
        "}\n",
        "\n",
        "# persist JSON\n",
        "os.makedirs('data_processed', exist_ok=True)\n",
        "with open('data_processed/manual_mapping.json','w') as f:\n",
        "    json.dump(manual_mapping, f, indent=2)\n",
        "print(\"✅ manual_mapping.json saved\")\n",
        "\n",
        "# build & write micro_codebook.yml\n",
        "tt = pd.read_csv('data_processed/topics_top10.csv')  # columns: topic, words\n",
        "# invert mapping → topic→labels\n",
        "topic_to_labels = {}\n",
        "for lbl, tid in manual_mapping.items():\n",
        "    topic_to_labels.setdefault(tid, []).append(lbl)\n",
        "\n",
        "codebook = {}\n",
        "for _, row in tt.iterrows():\n",
        "    t = int(row.topic)\n",
        "    top_words = [w.strip() for w in row.words.split(',')]\n",
        "    labels = topic_to_labels.get(t, [])\n",
        "    codebook[f\"topic_{t}\"] = {\n",
        "      'top_words':     top_words,\n",
        "      'primary_label': labels[0] if labels else None,\n",
        "      'all_labels':    labels\n",
        "    }\n",
        "\n",
        "with open('data_processed/micro_codebook.yml','w') as f:\n",
        "    yaml.dump(codebook, f, sort_keys=True)\n",
        "print(\"✅ micro_codebook.yml written\")"
      ],
      "metadata": {
        "colab": {
          "base_uri": "https://localhost:8080/"
        },
        "id": "i4GYKqTS-Glq",
        "outputId": "3b685aab-bf8d-4b54-e2f8-04155e5d3a25"
      },
      "execution_count": 43,
      "outputs": [
        {
          "output_type": "stream",
          "name": "stdout",
          "text": [
            "✅ manual_mapping.json saved\n",
            "✅ micro_codebook.yml written\n"
          ]
        }
      ]
    },
    {
      "cell_type": "code",
      "source": [
        "# ── Cell 27: Plot selected topic‐prevalence trends\n",
        "import pandas as pd\n",
        "import matplotlib.pyplot as plt\n",
        "\n",
        "# load trend; index_col may be 0 or 'year'\n",
        "trend = pd.read_csv('data_processed/topic_trend.csv', index_col=0)\n",
        "if 'year' in trend.columns:\n",
        "    trend = trend.set_index('year')\n",
        "trend.index = trend.index.astype(int)\n",
        "\n",
        "# affordances → topics of interest\n",
        "choice = {\n",
        "    'risk_governance': manual_mapping['risk_governance'],\n",
        "    'esg_toggle':      manual_mapping['esg_toggle'],\n",
        "    'product_upsell':  manual_mapping['product_upsell']\n",
        "}\n",
        "\n",
        "plt.figure(figsize=(6,4))\n",
        "for label, tid in choice.items():\n",
        "    col = f\"t{tid}\"\n",
        "    if col not in trend.columns:\n",
        "        print(f\"⚠️ Column {col} not in trend; skipping\")\n",
        "        continue\n",
        "    plt.plot(trend.index, trend[col], marker='o', label=f\"{label} (topic {tid})\")\n",
        "\n",
        "plt.xlabel('Year')\n",
        "plt.ylabel('Mean topic weight')\n",
        "plt.legend()\n",
        "plt.tight_layout()\n",
        "plt.savefig('fig/selected_topic_trends.png', dpi=300)\n",
        "plt.show()\n",
        "print(\"✔ fig/selected_topic_trends.png updated\")"
      ],
      "metadata": {
        "colab": {
          "base_uri": "https://localhost:8080/",
          "height": 424
        },
        "id": "5Gi3i1qP-aU9",
        "outputId": "d10a3fcd-3533-48c8-ef45-c065a433baeb"
      },
      "execution_count": 44,
      "outputs": [
        {
          "output_type": "display_data",
          "data": {
            "text/plain": [
              "<Figure size 600x400 with 1 Axes>"
            ],
            "image/png": "[encoded data removed]"
          },
          "metadata": {}
        },
        {
          "output_type": "stream",
          "name": "stdout",
          "text": [
            "✔ fig/selected_topic_trends.png updated\n"
          ]
        }
      ]
    },
    {
      "cell_type": "code",
      "source": [
        "# ── Cell 31: Inspect topics_top10.csv as interactive table\n",
        "import pandas as pd\n",
        "from google.colab.data_table import DataTable\n",
        "\n",
        "df_topics = pd.read_csv(\"data_processed/topics_top10.csv\")\n",
        "DataTable(df_topics, include_index=False)"
      ],
      "metadata": {
        "colab": {
          "base_uri": "https://localhost:8080/",
          "height": 418
        },
        "id": "UfnqLCEh-aYF",
        "outputId": "364f0f56-ea67-4904-c2cd-6a24331f7c66"
      },
      "execution_count": 45,
      "outputs": [
        {
          "output_type": "execute_result",
          "data": {
            "text/html": [
              "<div>\n",
              "<style scoped>\n",
              "    .dataframe tbody tr th:only-of-type {\n",
              "        vertical-align: middle;\n",
              "    }\n",
              "\n",
              "    .dataframe tbody tr th {\n",
              "        vertical-align: top;\n",
              "    }\n",
              "\n",
              "    .dataframe thead th {\n",
              "        text-align: right;\n",
              "    }\n",
              "</style>\n",
              "<table border=\"1\" class=\"dataframe\">\n",
              "  <thead>\n",
              "    <tr style=\"text-align: right;\">\n",
              "      <th></th>\n",
              "      <th>topic</th>\n",
              "      <th>words</th>\n",
              "    </tr>\n",
              "  </thead>\n",
              "  <tbody>\n",
              "    <tr>\n",
              "      <th>0</th>\n",
              "      <td>0</td>\n",
              "      <td>ing, risk, group, financial, bank, asset, incl...</td>\n",
              "    </tr>\n",
              "    <tr>\n",
              "      <th>1</th>\n",
              "      <td>1</td>\n",
              "      <td>ing, risk, financial, management, bank, statem...</td>\n",
              "    </tr>\n",
              "    <tr>\n",
              "      <th>2</th>\n",
              "      <td>2</td>\n",
              "      <td>klarna, total, risk, asset, financial, credit,...</td>\n",
              "    </tr>\n",
              "    <tr>\n",
              "      <th>3</th>\n",
              "      <td>3</td>\n",
              "      <td>walmart, onepay, installment, exclusively, pow...</td>\n",
              "    </tr>\n",
              "    <tr>\n",
              "      <th>4</th>\n",
              "      <td>4</td>\n",
              "      <td>ing, risk, financial, bank, group, management,...</td>\n",
              "    </tr>\n",
              "    <tr>\n",
              "      <th>5</th>\n",
              "      <td>5</td>\n",
              "      <td>klarna, financial, risk, report, esg, asset, c...</td>\n",
              "    </tr>\n",
              "    <tr>\n",
              "      <th>6</th>\n",
              "      <td>6</td>\n",
              "      <td>risk, exposure, ing, credit, total, bank, capi...</td>\n",
              "    </tr>\n",
              "    <tr>\n",
              "      <th>7</th>\n",
              "      <td>7</td>\n",
              "      <td>klarna, payment, tsek, merchant, customer, opt...</td>\n",
              "    </tr>\n",
              "    <tr>\n",
              "      <th>8</th>\n",
              "      <td>8</td>\n",
              "      <td>e, s, n, r, t, d, m, l, o, b</td>\n",
              "    </tr>\n",
              "    <tr>\n",
              "      <th>9</th>\n",
              "      <td>9</td>\n",
              "      <td>financial, company, account, audit, consolidat...</td>\n",
              "    </tr>\n",
              "    <tr>\n",
              "      <th>10</th>\n",
              "      <td>10</td>\n",
              "      <td>ing, risk, group, bank, financial, result, inc...</td>\n",
              "    </tr>\n",
              "    <tr>\n",
              "      <th>11</th>\n",
              "      <td>11</td>\n",
              "      <td>risk, ing, financial, management, include, sta...</td>\n",
              "    </tr>\n",
              "    <tr>\n",
              "      <th>12</th>\n",
              "      <td>12</td>\n",
              "      <td>ing, group, sustainability, client, annual_rep...</td>\n",
              "    </tr>\n",
              "    <tr>\n",
              "      <th>13</th>\n",
              "      <td>13</td>\n",
              "      <td>doordash, nexi, eurostar, rail, passenger, gro...</td>\n",
              "    </tr>\n",
              "  </tbody>\n",
              "</table>\n",
              "</div>"
            ],
            "application/vnd.google.colaboratory.module+javascript": "\n      import \"https://ssl.gstatic.com/colaboratory/data_table/e523c247d1e24a05/data_table.js\";\n\n      const table = window.createDataTable({\n        data: [[{\n            'v': 0,\n            'f': \"0\",\n        },\n\"ing, risk, group, financial, bank, asset, include, annual_account, result, executive_board\"],\n [{\n            'v': 1,\n            'f': \"1\",\n        },\n\"ing, risk, financial, management, bank, statement, asset, include, group, company\"],\n [{\n            'v': 2,\n            'f': \"2\",\n        },\n\"klarna, total, risk, asset, financial, credit, group, liability, klarna_holding, ab_publ\"],\n [{\n            'v': 3,\n            'f': \"3\",\n        },\n\"walmart, onepay, installment, exclusively, power, inside, weekly, online_store, integrate, shop\"],\n [{\n            'v': 4,\n            'f': \"4\",\n        },\n\"ing, risk, financial, bank, group, management, include, asset, result, business\"],\n [{\n            'v': 5,\n            'f': \"5\",\n        },\n\"klarna, financial, risk, report, esg, asset, consumer, total, hold, business\"],\n [{\n            'v': 6,\n            'f': \"6\",\n        },\n\"risk, exposure, ing, credit, total, bank, capital, report, value, eu\"],\n [{\n            'v': 7,\n            'f': \"7\",\n        },\n\"klarna, payment, tsek, merchant, customer, option, partnership, pay, million, statement\"],\n [{\n            'v': 8,\n            'f': \"8\",\n        },\n\"e, s, n, r, t, d, m, l, o, b\"],\n [{\n            'v': 9,\n            'f': \"9\",\n        },\n\"financial, company, account, audit, consolidated, indicator, item, annual_account, board_directors, institution\"],\n [{\n            'v': 10,\n            'f': \"10\",\n        },\n\"ing, risk, group, bank, financial, result, include, asset, business, capital\"],\n [{\n            'v': 11,\n            'f': \"11\",\n        },\n\"risk, ing, financial, management, include, statement, asset, business, group, bank\"],\n [{\n            'v': 12,\n            'f': \"12\",\n        },\n\"ing, group, sustainability, client, annual_report, climate, statement, esg, progress, pp\"],\n [{\n            'v': 13,\n            'f': \"13\",\n        },\n\"doordash, nexi, eurostar, rail, passenger, grocery, accessible, travel, plan, dashpass\"]],\n        columns: [[\"number\", \"topic\"], [\"string\", \"words\"]],\n        columnOptions: [],\n        rowsPerPage: 25,\n        helpUrl: \"https://colab.research.google.com/notebooks/data_table.ipynb\",\n        suppressOutputScrolling: true,\n        minimumWidth: undefined,\n      });\n\n      function appendQuickchartButton(parentElement) {\n        let quickchartButtonContainerElement = document.createElement('div');\n        quickchartButtonContainerElement.innerHTML = `\n    <div id=\"df-337159fd-2149-45a3-a200-fd99642a8cf1\">\n      <button class=\"colab-df-quickchart\" onclick=\"quickchart('df-337159fd-2149-45a3-a200-fd99642a8cf1')\"\n                title=\"Suggest charts\"\n                style=\"display:none;\">\n\n<svg xmlns=\"http://www.w3.org/2000/svg\" height=\"24px\"viewBox=\"0 0 24 24\"\n     width=\"24px\">\n    <g>\n        <path d=\"M19 3H5c-1.1 0-2 .9-2 2v14c0 1.1.9 2 2 2h14c1.1 0 2-.9 2-2V5c0-1.1-.9-2-2-2zM9 17H7v-7h2v7zm4 0h-2V7h2v10zm4 0h-2v-4h2v4z\"/>\n    </g>\n</svg>\n      </button>\n\n<style>\n  .colab-df-quickchart {\n      --bg-color: #E8F0FE;\n      --fill-color: #1967D2;\n      --hover-bg-color: #E2EBFA;\n      --hover-fill-color: #174EA6;\n      --disabled-fill-color: #AAA;\n      --disabled-bg-color: #DDD;\n  }\n\n  [theme=dark] .colab-df-quickchart {\n      --bg-color: #3B4455;\n      --fill-color: #D2E3FC;\n      --hover-bg-color: #434B5C;\n      --hover-fill-color: #FFFFFF;\n      --disabled-bg-color: #3B4455;\n      --disabled-fill-color: #666;\n  }\n\n  .colab-df-quickchart {\n    background-color: var(--bg-color);\n    border: none;\n    border-radius: 50%;\n    cursor: pointer;\n    display: none;\n    fill: var(--fill-color);\n    height: 32px;\n    padding: 0;\n    width: 32px;\n  }\n\n  .colab-df-quickchart:hover {\n    background-color: var(--hover-bg-color);\n    box-shadow: 0 1px 2px rgba(60, 64, 67, 0.3), 0 1px 3px 1px rgba(60, 64, 67, 0.15);\n    fill: var(--button-hover-fill-color);\n  }\n\n  .colab-df-quickchart-complete:disabled,\n  .colab-df-quickchart-complete:disabled:hover {\n    background-color: var(--disabled-bg-color);\n    fill: var(--disabled-fill-color);\n    box-shadow: none;\n  }\n\n  .colab-df-spinner {\n    border: 2px solid var(--fill-color);\n    border-color: transparent;\n    border-bottom-color: var(--fill-color);\n    animation:\n      spin 1s steps(1) infinite;\n  }\n\n  @keyframes spin {\n    0% {\n      border-color: transparent;\n      border-bottom-color: var(--fill-color);\n      border-left-color: var(--fill-color);\n    }\n    20% {\n      border-color: transparent;\n      border-left-color: var(--fill-color);\n      border-top-color: var(--fill-color);\n    }\n    30% {\n      border-color: transparent;\n      border-left-color: var(--fill-color);\n      border-top-color: var(--fill-color);\n      border-right-color: var(--fill-color);\n    }\n    40% {\n      border-color: transparent;\n      border-right-color: var(--fill-color);\n      border-top-color: var(--fill-color);\n    }\n    60% {\n      border-color: transparent;\n      border-right-color: var(--fill-color);\n    }\n    80% {\n      border-color: transparent;\n      border-right-color: var(--fill-color);\n      border-bottom-color: var(--fill-color);\n    }\n    90% {\n      border-color: transparent;\n      border-bottom-color: var(--fill-color);\n    }\n  }\n</style>\n\n      <script>\n        async function quickchart(key) {\n          const quickchartButtonEl =\n            document.querySelector('#' + key + ' button');\n          quickchartButtonEl.disabled = true;  // To prevent multiple clicks.\n          quickchartButtonEl.classList.add('colab-df-spinner');\n          try {\n            const charts = await google.colab.kernel.invokeFunction(\n                'suggestCharts', [key], {});\n          } catch (error) {\n            console.error('Error during call to suggestCharts:', error);\n          }\n          quickchartButtonEl.classList.remove('colab-df-spinner');\n          quickchartButtonEl.classList.add('colab-df-quickchart-complete');\n        }\n        (() => {\n          let quickchartButtonEl =\n            document.querySelector('#df-337159fd-2149-45a3-a200-fd99642a8cf1 button');\n          quickchartButtonEl.style.display =\n            google.colab.kernel.accessAllowed ? 'block' : 'none';\n        })();\n      </script>\n    </div>`;\n        parentElement.appendChild(quickchartButtonContainerElement);\n      }\n\n      appendQuickchartButton(table);\n    ",
            "text/plain": [
              "<google.colab.data_table.DataTable object>"
            ]
          },
          "metadata": {},
          "execution_count": 45
        }
      ]
    },
    {
      "cell_type": "code",
      "source": [
        "# ── Cell 6b: Compute Cohen’s κ (clean drop NaNs)\n",
        "import glob, os, pandas as pd\n",
        "from sklearn.metrics import cohen_kappa_score\n",
        "\n",
        "BASE = '/content/drive/MyDrive/Thesis Data'\n",
        "dp   = os.path.join(BASE, 'data_processed')\n",
        "# pick the first labeled file\n",
        "labeled = glob.glob(os.path.join(dp, '*labeled*.csv'))[0]\n",
        "print(\"Using labels from:\", labeled)\n",
        "\n",
        "df = pd.read_csv(labeled)\n",
        "# expect columns 'predicted' & 'manual'\n",
        "df_clean = df.dropna(subset=['manual'])\n",
        "print(f\"Computing κ on {len(df_clean)} rows\")\n",
        "kappa = cohen_kappa_score(df_clean['predicted'], df_clean['manual'])\n",
        "print(f\"Cohen’s κ = {kappa:.2f}\")"
      ],
      "metadata": {
        "colab": {
          "base_uri": "https://localhost:8080/"
        },
        "id": "HxMwKQZC-abA",
        "outputId": "6cb96a51-d2e7-4e62-914b-0e151265c3f4"
      },
      "execution_count": 46,
      "outputs": [
        {
          "output_type": "stream",
          "name": "stdout",
          "text": [
            "Using labels from: /content/drive/MyDrive/Thesis Data/data_processed/validation_sample_manual_labeled.csv\n",
            "Computing κ on 0 rows\n",
            "Cohen’s κ = nan\n"
          ]
        },
        {
          "output_type": "stream",
          "name": "stderr",
          "text": [
            "/usr/local/lib/python3.11/dist-packages/sklearn/metrics/_classification.py:758: RuntimeWarning: invalid value encountered in scalar divide\n",
            "  k = np.sum(w_mat * confusion) / np.sum(w_mat * expected)\n"
          ]
        }
      ]
    },
    {
      "cell_type": "code",
      "source": [
        "# ── Cell 28: Statistical test of trend slopes ──────────────────────────────\n",
        "import pandas as pd\n",
        "from scipy.stats import linregress\n",
        "\n",
        "# load trend\n",
        "trend = pd.read_csv('data_processed/topic_trend.csv', index_col=0)\n",
        "if 'year' in trend.columns:\n",
        "    trend = trend.set_index('year')\n",
        "trend.index = trend.index.astype(int)\n",
        "\n",
        "# pick the same topics\n",
        "choice = {\n",
        "    'risk_governance': manual_mapping['risk_governance'],\n",
        "    'esg_toggle':      manual_mapping['esg_toggle'],\n",
        "    'product_upsell':  manual_mapping['product_upsell']\n",
        "}\n",
        "\n",
        "print(\"Trend slope significance (year → mean weight):\")\n",
        "for label, tid in choice.items():\n",
        "    col = f\"t{tid}\"\n",
        "    y = trend[col].values\n",
        "    x = trend.index.values\n",
        "    slope, intercept, r_val, p_val, std_err = linregress(x, y)\n",
        "    print(f\" • {label:17s} (topic {tid}): slope={slope:.4f}, p‑value={p_val:.3f}, R²={r_val**2:.3f}\")"
      ],
      "metadata": {
        "colab": {
          "base_uri": "https://localhost:8080/"
        },
        "id": "XGMnURRH-am5",
        "outputId": "3ba9f4a8-fee8-41b0-9c84-ce4d7918c028"
      },
      "execution_count": 48,
      "outputs": [
        {
          "output_type": "stream",
          "name": "stdout",
          "text": [
            "Trend slope significance (year → mean weight):\n",
            " • risk_governance   (topic 0): slope=-0.0098, p‑value=0.367, R²=0.063\n",
            " • esg_toggle        (topic 12): slope=0.0060, p‑value=0.124, R²=0.172\n",
            " • product_upsell    (topic 7): slope=0.0176, p‑value=0.117, R²=0.178\n"
          ]
        }
      ]
    },
    {
      "cell_type": "code",
      "source": [
        "# Cell Y: Non‑parametric Mann–Kendall trend test (fixed)\n",
        "!pip install --quiet pymannkendall\n",
        "\n",
        "import pandas as pd, json\n",
        "import pymannkendall as mk\n",
        "\n",
        "# ── 0) load your affordance→topic mapping that you persisted earlier\n",
        "with open('data_processed/manual_mapping.json') as f:\n",
        "    manual_mapping = json.load(f)\n",
        "\n",
        "# ── 1) load your trend data (year → mean topic weights)\n",
        "trend = pd.read_csv('data_processed/topic_trend.csv')\n",
        "if 'year' in trend.columns:\n",
        "    trend = trend.set_index('year')\n",
        "trend.index = trend.index.astype(int)\n",
        "\n",
        "# ── 2) pick the three affordances you care about\n",
        "series_map = {}\n",
        "for label in ['risk_governance','esg_toggle','product_upsell']:\n",
        "    tid = manual_mapping[label]\n",
        "    col = f\"t{tid}\"\n",
        "    if col not in trend.columns:\n",
        "        raise KeyError(f\"Column {col} not found in topic_trend\")\n",
        "    series_map[label] = trend[col]\n",
        "\n",
        "# ── 3) run Mann–Kendall on each\n",
        "results = {}\n",
        "for label, s in series_map.items():\n",
        "    res = mk.original_test(s.values)\n",
        "    results[label] = {\n",
        "        'tau':     res.Tau,\n",
        "        'p_value': res.p,\n",
        "        'trend':   res.trend\n",
        "    }\n",
        "\n",
        "# ── 4) show\n",
        "print(\"Mann–Kendall trend test results:\")\n",
        "print(pd.DataFrame(results).T[['tau','p_value','trend']])"
      ],
      "metadata": {
        "colab": {
          "base_uri": "https://localhost:8080/"
        },
        "id": "DgHvS2wq-juQ",
        "outputId": "934f33dc-e13a-420d-8d75-0b8c3e1d8607"
      },
      "execution_count": 50,
      "outputs": [
        {
          "output_type": "stream",
          "name": "stdout",
          "text": [
            "\u001b[33mWARNING: Ignoring invalid distribution ~cipy (/usr/local/lib/python3.11/dist-packages)\u001b[0m\u001b[33m\n",
            "\u001b[0m\u001b[33mWARNING: Ignoring invalid distribution ~cipy (/usr/local/lib/python3.11/dist-packages)\u001b[0m\u001b[33m\n",
            "\u001b[0m\u001b[33mWARNING: Ignoring invalid distribution ~cipy (/usr/local/lib/python3.11/dist-packages)\u001b[0m\u001b[33m\n",
            "\u001b[0m\u001b[33mWARNING: Ignoring invalid distribution ~cipy (/usr/local/lib/python3.11/dist-packages)\u001b[0m\u001b[33m\n",
            "\u001b[0mMann–Kendall trend test results:\n",
            "                      tau   p_value       trend\n",
            "risk_governance -0.219048  0.216108    no trend\n",
            "esg_toggle       0.238095  0.042276  increasing\n",
            "product_upsell        0.2  0.152778    no trend\n"
          ]
        },
        {
          "output_type": "stream",
          "name": "stderr",
          "text": [
            "/usr/local/lib/python3.11/dist-packages/scipy/stats/_distn_infrastructure.py:2167: DeprecationWarning: np.find_common_type is deprecated.  Please use `np.result_type` or `np.promote_types`.\n",
            "See https://numpy.org/devdocs/release/1.25.0-notes.html and the docs for more information.  (Deprecated NumPy 1.25)\n",
            "  args = tuple(map(asarray, args))\n",
            "/usr/local/lib/python3.11/dist-packages/scipy/stats/_distn_infrastructure.py:2167: DeprecationWarning: np.find_common_type is deprecated.  Please use `np.result_type` or `np.promote_types`.\n",
            "See https://numpy.org/devdocs/release/1.25.0-notes.html and the docs for more information.  (Deprecated NumPy 1.25)\n",
            "  args = tuple(map(asarray, args))\n",
            "/usr/local/lib/python3.11/dist-packages/scipy/stats/_distn_infrastructure.py:2167: DeprecationWarning: np.find_common_type is deprecated.  Please use `np.result_type` or `np.promote_types`.\n",
            "See https://numpy.org/devdocs/release/1.25.0-notes.html and the docs for more information.  (Deprecated NumPy 1.25)\n",
            "  args = tuple(map(asarray, args))\n"
          ]
        }
      ]
    },
    {
      "cell_type": "markdown",
      "source": [
        "Mann–Kendall trend test (n=15 years):\n",
        "- risk_governance: τ = –0.22, p = 0.22 (no trend)\n",
        "- esg_toggle:      τ =  0.24, p = 0.04 (significant ↑)\n",
        "- product_upsell:  τ =  0.20, p = 0.15 (no trend)"
      ],
      "metadata": {
        "id": "OYfon5rKAU0Z"
      }
    },
    {
      "cell_type": "code",
      "source": [
        "# Cell Z: Summarize k‑search metrics\n",
        "import pandas as pd\n",
        "dfm = pd.read_csv(\"data_processed/k_search_metrics.csv\")\n",
        "print(dfm.to_string(index=False))"
      ],
      "metadata": {
        "colab": {
          "base_uri": "https://localhost:8080/"
        },
        "id": "HlRB07_8AVlV",
        "outputId": "8fef117f-6c6f-4f78-a985-52375367166b"
      },
      "execution_count": 51,
      "outputs": [
        {
          "output_type": "stream",
          "name": "stdout",
          "text": [
            " k      c_v  silhouette\n",
            " 6 0.465525    0.815908\n",
            " 7 0.459275    0.864903\n",
            " 8 0.443196    0.729612\n",
            " 9 0.433389    0.772347\n",
            "10 0.450927    0.767070\n",
            "11 0.474701    0.597558\n",
            "12 0.420536    0.663680\n"
          ]
        }
      ]
    },
    {
      "cell_type": "code",
      "source": [
        "print(f\"Chose k_final = {k_final} because c_v≈{best_cv.c_v:.3f}, silhouette≈{best_sil.silhouette:.3f}\")"
      ],
      "metadata": {
        "colab": {
          "base_uri": "https://localhost:8080/"
        },
        "id": "pR0euE3l-jw1",
        "outputId": "ec6988b2-a85f-4b6c-bbf6-a64551b038c0"
      },
      "execution_count": 52,
      "outputs": [
        {
          "output_type": "stream",
          "name": "stdout",
          "text": [
            "Chose k_final = 14 because c_v≈0.475, silhouette≈0.865\n"
          ]
        }
      ]
    },
    {
      "cell_type": "code",
      "source": [
        "from collections import Counter\n",
        "grams = [gram for doc in token_lists for gram in doc if \"_\" in gram]\n",
        "print(\"Top 15 n‑grams:\", Counter(grams).most_common(15))"
      ],
      "metadata": {
        "colab": {
          "base_uri": "https://localhost:8080/"
        },
        "id": "gayoZIPr-jzL",
        "outputId": "4e20afe6-7f17-4ead-cbf2-ec3e4c8983a1"
      },
      "execution_count": 53,
      "outputs": [
        {
          "output_type": "stream",
          "name": "stdout",
          "text": [
            "Top 15 n‑grams: [('eur_million', 11412), ('fair_value', 9667), ('annual_report', 9496), ('profit_loss', 6177), ('executive_board', 6175), ('corporate_governance', 6121), ('interest_rate', 5482), ('supervisory_board', 4717), ('annual_account', 4615), ('cash_flow', 3611), ('statement_parent', 3561), ('consolidated_annual', 3218), ('information_appendice', 3085), ('eur_billion', 3045), ('balance_sheet', 2608)]\n"
          ]
        }
      ]
    },
    {
      "cell_type": "code",
      "source": [
        "%%bash\n",
        "# go to a place where you can create a fresh clone\n",
        "cd /content/drive/MyDrive\n",
        "\n",
        "# clone your GitHub repo into the folder “Thesis Data”\n",
        "# (replace URL with your actual repo URL)\n",
        "git clone https://github.com/your‑username/your‑thesis‑repo.git \"Thesis Data\"\n",
        "\n",
        "# now enter it\n",
        "cd \"Thesis Data\""
      ],
      "metadata": {
        "colab": {
          "base_uri": "https://localhost:8080/"
        },
        "id": "Hrn6ZQrPAvZw",
        "outputId": "eaa10fcd-a6a1-4245-ec3f-3d8a0fff3c06"
      },
      "execution_count": 56,
      "outputs": [
        {
          "output_type": "stream",
          "name": "stderr",
          "text": [
            "fatal: destination path 'Thesis Data' already exists and is not an empty directory.\n"
          ]
        }
      ]
    },
    {
      "cell_type": "code",
      "source": [],
      "metadata": {
        "id": "xSX1C29nAvdG"
      },
      "execution_count": null,
      "outputs": []
    }
  ]
}